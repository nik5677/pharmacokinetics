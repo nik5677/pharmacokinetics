{
 "cells": [
  {
   "cell_type": "raw",
   "id": "c46c2508-e278-438f-9c26-a1c7b2d85895",
   "metadata": {},
   "source": [
    "# Dynamika wchłaniania się leków - farmakokinetyka\n",
    "### autorzy: Nadia Moska (277499) i Nikodem Drelak (277426)"
   ]
  },
  {
   "cell_type": "markdown",
   "id": "fead1377-b43a-44a4-adc9-9ccd40853c8f",
   "metadata": {},
   "source": [
    "## Spis treści\n",
    "1. [Wstęp i definicja](#Wstęp-i-definicja)\n",
    "    * [Cel pracy](#Cel-pracy)\n",
    "    * [Motywacja](#Motywacja)\n",
    "    * [Historia farmakokinetyki](#Historia-farmakokinetyki)\n",
    "2. [Podstawowe parametry farmakokinetyczne](#Podstawowe-parametry-farmakokinetyczne)\n",
    "3. [Model kompartmentowy - wprowadzenie](#Model-kompartmentowy---wprowadzenie)\n",
    "4. [Model jednokompartmentowy](#Model-jednokompartmentowy)\n",
    "    * [Podanie dożylne](#Podanie-dożylne)\n",
    "    * [Podanie doustne](#Podanie-doustne)\n",
    "7. [Okres półtrwania](#Okres-półtrwania)"
   ]
  },
  {
   "cell_type": "markdown",
   "id": "769982ee-d30b-44c6-97b3-b9c7b4312cea",
   "metadata": {},
   "source": [
    "## Wstęp i definicja\n",
    "\n",
    "Farmakokinetyka bada procesy biotransformacji, dystrybucji i wchłaniania (głównie) leków i ich metabolitów oraz ich eliminacji z organizmu w czasie. Rzeczywiste procesy zachodzące w organiźmie są na tyle skomplikowane, że ich pełny opis jest niemożliwy. Natomiast w wielu przypadkach udaje się stworzyć przybliżony, ale wystarczająco dokładny model. Umiejętne wykorzystanie modeli farmakokinetycznych ułatwia dostosowanie dawkowania, a tym samym zmniejszenie ryzyka wystąpienia niepożądanych efektów ubocznych u chorego.\n",
    "\n",
    "<a href=\"https://home.cyf-kr.edu.pl/~mfjawien/PKSoft/wprowadzenie.htm\">źródło 1</a>, <a href=\"https://www.degruyter.com/document/doi/10.1351/pac200476051033/html\">źródło 2</a>"
   ]
  },
  {
   "cell_type": "markdown",
   "id": "acf4c555-0bb4-4b16-935d-9a6530bfaf7f",
   "metadata": {},
   "source": [
    "#### Cel pracy\n",
    "\n",
    "Celem pracy jest zaprezentowanie modelowania farmakokinetyki leku z wykorzystaniem równań różniczkowych, które opisują dynamikę jego wchłaniania, dystrybucji, metabolizmu oraz eliminacji w organizmie. W ramach pracy zostaną zaprezentowane zarówno analityczne, jak i numeryczne rozwiązania równań różniczkowych stosowanych w farmakokinetyce. Dodatkowo, celem pracy jest przeprowadzenie analizy porównawczej wyników teoretycznych z rzeczywistymi danymi eksperymentalnymi, w celu określenia, w jaki sposób różne parametry farmakokinetyczne (takie jak współczynniki wchłaniania, metabolizmu i eliminacji) wpływają na stężenie leku w organizmie oraz skuteczność terapii. Praca ma na celu również zrozumienie znaczenia właściwego dawkowania leku i jego roli w minimalizacji ryzyka działań niepożądanych."
   ]
  },
  {
   "cell_type": "markdown",
   "id": "8ea99c65-d64e-4ed6-87f0-3dde775f3e33",
   "metadata": {},
   "source": [
    "#### Motywacja\n",
    "\n",
    "Odpowiednie dawkowanie leków jest kluczowe w zapewnieniu skuteczności terapii oraz minimalizowaniu ryzyka wystąpienia skutków ubocznych. Farmakokinetyka, badająca sposób, w jaki organizm wchłania, rozprowadza, metabolizuje i wydala substancje lecznicze, pozwala na precyzyjne określenie optymalnych dawek leku, które będą miały maksymalny efekt terapeutyczny przy jednoczesnym minimalnym ryzyku działań niepożądanych.\n",
    "\n",
    "Przekroczenie zalecanej dawki leku może prowadzić do toksyczności, ponieważ substancja może osiągnąć poziom, w którym jej metabolizm i wydalanie stają się niewystarczające. Z kolei zbyt niska dawka może okazać się niewystarczająca do osiągnięcia oczekiwanego efektu terapeutycznego, co może prowadzić do niepowodzenia leczenia. Optymalizacja dawkowania zależy od wielu czynników, w tym od wieku, masy ciała, stanu zdrowia pacjenta, funkcji wątroby i nerek oraz obecności innych leków w organizmie.\n",
    "\n",
    "Właściwe dobranie dawki leku w oparciu o farmakokinetyczne modele matematyczne umożliwia indywidualne dostosowanie terapii do potrzeb pacjenta. Pozwala to nie tylko na zwiększenie skuteczności leczenia, ale także na redukcję ryzyka działań niepożądanych, takich jak uszkodzenie narządów, alergie czy interakcje z innymi substancjami. Dlatego farmakokinetyka odgrywa kluczową rolę w nowoczesnej medycynie, zapewniając bardziej precyzyjne i bezpieczne podejście do leczenia."
   ]
  },
  {
   "cell_type": "markdown",
   "id": "9196c057-c3d8-4738-b14f-8b58e75d0d72",
   "metadata": {},
   "source": [
    "#### Historia farmakokinetyki\n",
    "\n",
    "Farmakokinetyka, jako dziedzina nauki zajmująca się badaniem losów leków w organizmach żywych, ma swoje korzenie w początkach XX wieku, kiedy to zaczęto dostrzegać znaczenie analizowania procesów związanych z wchłanianiem, dystrybucją, metabolizowaniem i wydalaniem leków (ADME). W pierwszych latach rozwoju farmakokinetyki podstawowe badania koncentrowały się głównie na prostych pomiarach stężenia leków w organizmach. Jednakże to dopiero rozwój technologii analitycznych w drugiej połowie XX wieku, takich jak chromatografia gazowa i cieczowa, a także techniki spektrometrii mas, umożliwił szczegółowe badanie tych procesów na poziomie molekularnym.\n",
    "\n",
    "W latach 50. i 60. XX wieku zaczęły pojawiać się pierwsze modele matematyczne opisujące farmakokinetykę, takie jak modele jednokomorowe, które traktowały organizm jako pojedynczy „pojemnik” dla leku. Następnie, z biegiem lat, wprowadzono bardziej skomplikowane modele wielokomorowe, które pozwalały na dokładniejsze odwzorowanie procesów farmakokinetycznych w różnych tkankach ciała. W miarę postępu technologii, badania farmakokinetyczne stały się niezbędnym elementem w opracowywaniu nowych leków oraz w indywidualizacji terapii.\n",
    "\n",
    "Dzięki osiągnięciom farmakokinetyki, w dzisiejszych czasach możliwe jest dokładne przewidywanie reakcji organizmu na leki, co przyczynia się do lepszej skuteczności leczenia oraz zmniejszenia ryzyka działań niepożądanych.\n",
    "\n",
    "**Źródło:**\n",
    "- Gibaldi, M., & Perrier, D. (1982). *Pharmacokinetics* (2nd ed.). CRC Press.\n",
    "\n",
    "\n"
   ]
  },
  {
   "cell_type": "markdown",
   "id": "a9391996-8239-4381-aaba-897eadeb74c6",
   "metadata": {},
   "source": [
    "## Podstawowe parametry farmakokinetyczne\n",
    "\n",
    "* stala eliminacji (w zaleznosci od zrodla, niektore uzywaja nerkowa, zolciowa, metaboliczna, my bedziemy uzywac nerkowa i nienerkowa)\n",
    "* objetosc dystrybucji\n",
    "* ...? jeszcze jakies sie znajda\n",
    "\n",
    "<a href=\"https://www.umb.edu.pl/photo/pliki/WF_jednostki/zaklad-chemii-fizycznej/farmakokinetyka_jako_dyscyplina_wiedzy.pdf\">zrodlo(parametry i ich opis)</a>,\n",
    "\n",
    "<a href=\"https://ruj.uj.edu.pl/server/api/core/bitstreams/974d094b-f2c5-4eba-b276-6fd254ea752c/content\">zrodlo(parametry dla roznych lekow)</a>\n",
    "\n",
    "<a href=\"https://web.archive.org/web/20160508185420/https://www.agah.eu/fileadmin/_migrated/content_uploads/PK-glossary_PK_working_group_2004.pdf\">duzo parametrow :-)</a>"
   ]
  },
  {
   "cell_type": "markdown",
   "id": "74f9762e-77f2-4928-91d5-3519ba7e03d6",
   "metadata": {},
   "source": [
    "#### 1. Objętość dystrybucji (Vd)\n",
    "\n",
    "Objętość dystrybucji to hipotetyczna objętość płynów ustrojowych, w której lek byłby rozmieszczony \n",
    "równomiernie, aby osiągnąć takie samo stężenie, jakie obserwujemy we krwi. \n",
    "\n",
    "$$ Vd = \\frac{D}{C_0} $$\n",
    "\n",
    "gdzie:\n",
    "* \\( D \\) - podana dawka leku,\n",
    "* \\( C_0 \\) - początkowe stężenie leku we krwi po podaniu."
   ]
  },
  {
   "cell_type": "markdown",
   "id": "95bfaa55-eef4-4f72-adb4-73cad8dd4bc0",
   "metadata": {},
   "source": [
    "#### 2. Stała eliminacji (nerkowa i nienerkowa)\n",
    "Stała eliminacji opisuje szybkość, z jaką lek jest usuwany z organizmu. Całkowitą stałą eliminacji (k) można wyrazić jako sumę stałych eliminacji nerkowej (k_renal) i nienerkowej (k_nonrenal):\n",
    "\n",
    "$$ k = k_{renal} + k_{nonrenal} $$\n",
    "\n",
    " Stała eliminacji nerkowej $k_{renal}$ odnosi się do eliminacji leku przez nerki, natomiast stała eliminacji nienerkowej $k_{nonrenal}$ uwzględnia eliminację przez inne drogi, takie jak metabolizm w wątrobie czy wydalanie z żółcią."
   ]
  },
  {
   "cell_type": "markdown",
   "id": "74000e7c-edf3-40bd-a3eb-0ca54e85c086",
   "metadata": {},
   "source": [
    "#### 3. Dostępność biologiczna (F)\n",
    "\n",
    "Dostępność biologiczna określa ułamek podanej dawki leku, który dociera do krążenia systemowego w\n",
    "postaci niezmienionej. Jest wyrażana jako wartość procentowa i zależy od drogi podania leku. Matematycznie można ją obliczyć jako stosunek pola pod krzywą (AUC) stężenia leku w osoczu po podaniu\n",
    "pozanaczyniowym (np. doustnym) do AUC po podaniu dożylnym.\n",
    "\n",
    "$$ F = \\left( \\frac{\\text{AUC}_{\\text{po}}}{\\text{AUC}_{\\text{iv}}} \\right) \\times 100 $$\n",
    "\n",
    "\n"
   ]
  },
  {
   "cell_type": "markdown",
   "id": "5f53dd43-be04-4d3e-a614-477dff581e7d",
   "metadata": {},
   "source": [
    "#### 4. Klirens (CL)\n",
    "Klirens jest miarą zdolności organizmu do eliminacji leku. Wyraża objętość krwi, która zostaje\n",
    "całkowicie oczyszczona z leku w jednostce czasu. \n",
    "\n",
    "$$CL = \\frac{D}{AUC}$$"
   ]
  },
  {
   "cell_type": "markdown",
   "id": "6e50c194-0cac-4291-b33d-89bd2e941169",
   "metadata": {},
   "source": [
    "#### 5. Biologiczny okres półtrwania (t1/2)\n",
    "Okres półtrwania to czas potrzebny do zmniejszenia stężenia leku we krwi o połowę. Jest obliczany na podstawie stałej szybkości eliminacji (k):\n",
    "\n",
    "$$ t_{1/2} = \\frac{0.693}{k} $$"
   ]
  },
  {
   "cell_type": "markdown",
   "id": "e1a05222-5428-440c-8bee-43f31ce34f69",
   "metadata": {},
   "source": [
    "#### 6. Pole pod krzywą (AUC)\n",
    "AUC reprezentuje całkowitą ekspozycję organizmu na lek i jest obliczane na podstawie stężenia leku w funkcji czasu:\n",
    "\n",
    "$$ AUC = \\int_{0}^{\\infty} C(t) dt $$"
   ]
  },
  {
   "cell_type": "markdown",
   "id": "c4a3d009-9c3e-4ed4-8a9e-f8673210bca2",
   "metadata": {},
   "source": [
    "## Model kompartmentowy - wprowadzenie\n",
    "\n",
    "Jednym z najprostszych modeli pozwalających na matematyczny opis losu leku w organizmie jest **model kompartmentowy**. Organizm ludzki składa się z wielu różnych rodzajów tkanek, jednak wiele tkanek wykazuje podobne własności wobec badanego leku. Model kompartmentowy zakłada, że organizm składa się z jednego lub kilku kompartmentów, czyli zbiorów takich \"podobnych\" tkanek.\n",
    "\n",
    "Na przykład, śledząc transport jonów potasu do wnętrza erytrocytów przyjmuje się model dwukompartmentowy. Wtedy jako jeden kompartment przyjmuje się wszystkie krwinki czerwone (erytrocyty), a jako drugi - otaczający je płyn (osocze).\n",
    "\n",
    "<a href=\"https://www.umb.edu.pl/photo/pliki/WF_jednostki/zaklad-chemii-fizycznej/farmakokinetyka_jako_dyscyplina_wiedzy.pdf\">źródło 1</a>,\n",
    "<a href=\"https://home.cyf-kr.edu.pl/~mfjawien/PKSoft/wprowadzenie.htm\">źródło 2</a>"
   ]
  },
  {
   "cell_type": "markdown",
   "id": "9970b47b-693f-405c-879f-2444fee3a3dd",
   "metadata": {},
   "source": [
    "## Model jednokompartmentowy\n",
    "Dla modelu jednokompartmentowego przyjmuje się następujące założenia:\n",
    "* Organizm człowieka to jeden kompartment o objętości dystrybucji $V_{d}$.\n",
    "* Po podaniu leku ($t=0$) dochodzi do natychmiastowego rozmieszczenia leku w ustroju.\n",
    "* W przypadku dawki pozanaczyniowej należy brać pod uwagę uwolnienie leku z postaci oraz jego wchłonięcie z miejsca podania do krążenia ogólnego. ***???***\n",
    "* We krwi (osoczu, surowicy) mierzymy stężenie niezmienionego leku. ***???***\n",
    "* Proces eliminacji jest procesem pierwszego rzędu.\n",
    "* Na stałą eliminacji ($k_{e}$) składają się stała eliminacji leku drogą nerkową *(renal elimination)* ($k_{ren}$) oraz pozanerkową *(non-renal elimination)* ($k_{nren}$): $k_{e} = k_{ren} + k_{nren}$\n",
    "\n",
    "<a href=\"https://www.ump.edu.pl/media/uid/0697-f0fadb562c7d742/1a1373.pdf\">źródło</a>"
   ]
  },
  {
   "cell_type": "markdown",
   "id": "4ddc50de-25dd-4bd9-a291-afaf45240cb5",
   "metadata": {},
   "source": [
    "#### Podanie dożylne\n",
    "\n",
    "Kiedy podajemy lek dożylnie, ten natychmiastowo i jednorodnie miesza się ze wszystkimi tkankami organizmu, po czym eliminowany jest wszystkimi możliwymi drogami. Załóżmy, że:\\\n",
    "$ X_{0} $ – ilość leku w jednej dawce;\\\n",
    "$ X(t) $ – ilość leku we krwi (reprezentującej cały kompartment) w czasie $ t $;\\\n",
    "$ k_{e} $ - stała eliminacji.\\\n",
    "Wtedy, korzystając z modelu logistycznego, możemy zapisać równanie różniczkowe:\n",
    "$$ \\require{physics} \\dv{X(t)}{t} = -k_{e}X(t) $$\n",
    "Rozwiązujemy je, najpierw mnożąc stronami przez $\\frac{1}{X(t)}$ i $dt$:\n",
    "$$ \\require{physics} \\frac{1}{X(t)} \\dv{X(t)}{t} = -k_{e} $$\n",
    "$$ \\require{physics} \\frac{1}{X(t)} \\dd{X(t)} = -k_{e} \\dd{t} $$\n",
    "Integrujemy stronami i otrzymujemy:\n",
    "$$ \\require{physics} \\ln{\\abs{X(t)}} = -k_{e}t + c $$\n",
    "Początkowa masa leku wynosi $X_{0}$ dla czasu $t=0$, czyli, podstawiając do powyższego równania, możemy obliczyć stałą:\n",
    "$$ \\require{physics} \\ln{\\abs{X_0}} = c $$\n",
    "Przekształcamy, aby otrzymać równanie ogólne równania:\n",
    "$$ \\require{physics} \\ln{\\abs{X(t)}} = -k_{e}t + \\ln{\\abs{X_{0}}} $$\n",
    "$$ \\require{physics} \\abs{X(t)} = e^{-k_{e}t + \\ln{\\abs{X_{0}}}} $$\n",
    "I otrzymujemy nasze równanie ogólne - funkcję zależności masy leku we krwi od czasu.\n",
    "$$ X(t) = X_{0} e^{-k_{e}t} $$\n",
    "Ponieważ doświadczalnie wyznacza się stężenie leku we krwi, a nie jego ilość, możemy podstawić:\n",
    "$$ C = \\frac{X}{V_{d}} $$\n",
    "Gdzie $C$ to stężenie, a $V_{d}$ - objętość dystrybucji. $V_{d}$ jest stała, dlatego dostajemy:\n",
    "$$ C(t) = C_{0} e^{-k_{e}t} $$\n",
    "\n",
    "<a href=\"https://www.ump.edu.pl/media/uid/0697-f0fadb562c7d742/1a1373.pdf\">źródło 1</a>,\n",
    "<a href=\"https://www.umb.edu.pl/photo/pliki/WF_jednostki/zaklad-chemii-fizycznej/farmakokinetyka_jako_dyscyplina_wiedzy.pdf\">źródło 2</a>"
   ]
  },
  {
   "cell_type": "markdown",
   "id": "35f13d7912bf951b",
   "metadata": {},
   "source": [
    "#### Podanie doustne\n",
    "\n",
    "<a href=\"https://www.ump.edu.pl/media/uid/0697-f0fadb562c7d742/1a1373.pdf\">fajne zrodlo</a>"
   ]
  },
  {
   "cell_type": "markdown",
   "id": "293c3e7d27e0847c",
   "metadata": {},
   "source": [
    "## Okres półtrwania\n",
    "Biologiczny okres półtrwania $t_{1/2}$, to czas, w którym stężenie leku spada do połowy początkowej wartości. Korzystając z modelu jednokompartmentowego, podstawiamy:\n",
    "$$ C(t_{1/2}) = \\frac{1}{2} C_{0}$$\n",
    "Stąd:\n",
    "$$ C_{0} e^{-k_{e}t_{1/2}} = \\frac{1}{2} C_{0} $$\n",
    "Dzieląc stronami przez $C_{0}$ otrzymujemy:\n",
    "$$ e^{-k_{e}t_{1/2}} = \\frac{1}{2} $$\n",
    "Logarytmujemy stronami i przekształcamy:\n",
    "$$ k_{e}t_{1/2} = \\ln{2} $$\n",
    "Ostatecznie otrzymujemy:\n",
    "$$ t_{1/2} = \\frac{\\ln{2}}{k_{e}} $$"
   ]
  }
 ],
 "metadata": {
  "kernelspec": {
   "display_name": "Python 3 (ipykernel)",
   "language": "python",
   "name": "python3"
  },
  "language_info": {
   "codemirror_mode": {
    "name": "ipython",
    "version": 3
   },
   "file_extension": ".py",
   "mimetype": "text/x-python",
   "name": "python",
   "nbconvert_exporter": "python",
   "pygments_lexer": "ipython3",
   "version": "3.12.0"
  }
 },
 "nbformat": 4,
 "nbformat_minor": 5
}
