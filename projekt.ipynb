{
 "cells": [
  {
   "cell_type": "markdown",
   "id": "e8ea98a3f6f599e5",
   "metadata": {},
   "source": [
    "# Dynamika wchłaniania się leków - farmakokinetyka\n",
    "### autorzy: Nadia Moska (277499) i Nikodem Drelak (277426)"
   ]
  },
  {
   "cell_type": "markdown",
   "id": "fead1377-b43a-44a4-adc9-9ccd40853c8f",
   "metadata": {},
   "source": [
    "## Spis treści\n",
    "1. [Wstęp i definicja](#Wstęp-i-definicja)\n",
    "    * [Cel pracy i motywacja](#Cel-pracy-i-motywacja)\n",
    "    * [Historia farmakokinetyki](#Historia-farmakokinetyki)\n",
    "2. [Podstawowe parametry farmakokinetyczne](#Podstawowe-parametry-farmakokinetyczne)\n",
    "    * [Objętość dystrybucji](#Objętość-dystrybucji)\n",
    "    * [Stała eliminacji](#Stała-eliminacji)\n",
    "    * [Dostępność biologiczna](#Dostępność-biologiczna)\n",
    "    * [Klirens](#Klirens)\n",
    "    * [Biologiczny okres półtrwania](#Biologiczny-okres-półtrwania)\n",
    "    * [Pole pod krzywą](#Pole-pod-krzywą)\n",
    "3. [Model kompartmentowy - wprowadzenie](#Model-kompartmentowy---wprowadzenie)\n",
    "4. [Model jednokompartmentowy](#Model-jednokompartmentowy)\n",
    "    * [Podanie dożylne](#Podanie-dożylne)\n",
    "    * [Podanie doustne](#Podanie-doustne)\n",
    "5. [Okres półtrwania](#Okres-półtrwania)"
   ]
  },
  {
   "cell_type": "markdown",
   "id": "769982ee-d30b-44c6-97b3-b9c7b4312cea",
   "metadata": {},
   "source": [
    "## Wstęp i definicja\n",
    "\n",
    "Farmakokinetyka bada procesy biotransformacji, dystrybucji i wchłaniania (głównie) leków i ich metabolitów oraz ich eliminacji z organizmu w czasie. Rzeczywiste procesy zachodzące w organiźmie są na tyle skomplikowane, że ich pełny opis jest niemożliwy. Natomiast w wielu przypadkach udaje się stworzyć przybliżony, ale wystarczająco dokładny model. Umiejętne wykorzystanie modeli farmakokinetycznych ułatwia dostosowanie dawkowania, a tym samym zmniejszenie ryzyka wystąpienia niepożądanych efektów ubocznych u chorego.\n",
    "\n",
    "<a href=\"https://home.cyf-kr.edu.pl/~mfjawien/PKSoft/wprowadzenie.htm\">źródło 1</a>, <a href=\"https://www.degruyter.com/document/doi/10.1351/pac200476051033/html\">źródło 2</a>"
   ]
  },
  {
   "cell_type": "markdown",
   "id": "acf4c555-0bb4-4b16-935d-9a6530bfaf7f",
   "metadata": {},
   "source": [
    "#### Cel pracy i motywacja\n",
    "\n",
    "Celem jest przedstawienie modelowania farmakokinetyki leku przy użyciu równań różniczkowych opisujących jego wchłanianie, dystrybucję, metabolizm i eliminację. Projekt obejmuje zarówno analityczne, jak i numeryczne rozwiązania tych równań oraz analizę ich zgodności z danymi eksperymentalnymi. Chcemy też podkreślić znaczenie prawidłowego dawkowania w minimalizacji działań niepożądanych.\n",
    "\n",
    "Odpowiednie dawkowanie leków zwiększa skuteczność terapii i zmniejsza ryzyko skutków ubocznych. Farmakokinetyka umożliwia precyzyjne ustalenie optymalnych dawek, które zapewniają maksymalny efekt terapeutyczny przy minimalnym ryzyku toksyczności. Modele matematyczne pozwalają indywidualnie dostosować terapię, zwiększając jej bezpieczeństwo i efektywność.\n"
   ]
  },
  {
   "cell_type": "markdown",
   "id": "9196c057-c3d8-4738-b14f-8b58e75d0d72",
   "metadata": {},
   "source": [
    "#### Historia farmakokinetyki\n",
    "\n",
    "Farmakokinetyka, jako dziedzina nauki zajmująca się badaniem losów leków w organizmach żywych, ma swoje korzenie w początkach XX wieku, kiedy to zaczęto dostrzegać znaczenie analizowania procesów związanych z wchłanianiem, dystrybucją, metabolizowaniem i wydalaniem leków (ADME). W pierwszych latach rozwoju farmakokinetyki podstawowe badania koncentrowały się głównie na prostych pomiarach stężenia leków w organizmach. Jednakże to dopiero rozwój technologii analitycznych w drugiej połowie XX wieku, takich jak chromatografia gazowa i cieczowa, a także techniki spektrometrii mas, umożliwił szczegółowe badanie tych procesów na poziomie molekularnym.\n",
    "\n",
    "W latach 50. i 60. XX wieku zaczęły pojawiać się pierwsze modele matematyczne opisujące farmakokinetykę, takie jak modele jednokomorowe, które traktowały organizm jako pojedynczy „pojemnik” dla leku. Następnie, z biegiem lat, wprowadzono bardziej skomplikowane modele wielokomorowe, które pozwalały na dokładniejsze odwzorowanie procesów farmakokinetycznych w różnych tkankach ciała. W miarę postępu technologii, badania farmakokinetyczne stały się niezbędnym elementem w opracowywaniu nowych leków oraz w indywidualizacji terapii.\n",
    "\n",
    "Dzięki osiągnięciom farmakokinetyki, w dzisiejszych czasach możliwe jest dokładne przewidywanie reakcji organizmu na leki, co przyczynia się do lepszej skuteczności leczenia oraz zmniejszenia ryzyka działań niepożądanych.\n",
    "\n",
    "**Źródło:**\n",
    "- Gibaldi, M., & Perrier, D. (1982). *Pharmacokinetics* (2nd ed.). CRC Press.\n",
    "\n",
    "\n"
   ]
  },
  {
   "cell_type": "markdown",
   "id": "a9391996-8239-4381-aaba-897eadeb74c6",
   "metadata": {},
   "source": [
    "## Podstawowe parametry farmakokinetyczne\n",
    "<a href=\"https://www.umb.edu.pl/photo/pliki/WF_jednostki/zaklad-chemii-fizycznej/farmakokinetyka_jako_dyscyplina_wiedzy.pdf\">zrodlo(parametry i ich opis)</a>,\n",
    "\n",
    "<a href=\"https://ruj.uj.edu.pl/server/api/core/bitstreams/974d094b-f2c5-4eba-b276-6fd254ea752c/content\">zrodlo(parametry dla roznych lekow)</a>\n",
    "\n",
    "<a href=\"https://web.archive.org/web/20160508185420/https://www.agah.eu/fileadmin/_migrated/content_uploads/PK-glossary_PK_working_group_2004.pdf\">duzo parametrow :-)</a>\n",
    "\n",
    "(źródła do przeniesienia na dol albo gdzies jeszcze nwm)"
   ]
  },
  {
   "cell_type": "markdown",
   "id": "74f9762e-77f2-4928-91d5-3519ba7e03d6",
   "metadata": {},
   "source": [
    "#### Objętość dystrybucji\n",
    "\n",
    "Objętość dystrybucji (oznaczana jako $V_{d}$) to hipotetyczna objętość płynów ustrojowych, w której lek byłby rozmieszczony\n",
    "równomiernie, aby osiągnąć takie samo stężenie, jakie obserwujemy we krwi.\n",
    "$$ V_{d} = \\frac{D}{C_0} $$\n",
    "gdzie:\n",
    "* $D$ - podana dawka leku,\n",
    "* $C_{0}$ - początkowe stężenie leku we krwi po podaniu."
   ]
  },
  {
   "cell_type": "markdown",
   "id": "95bfaa55-eef4-4f72-adb4-73cad8dd4bc0",
   "metadata": {},
   "source": [
    "#### Stała eliminacji\n",
    "Stała eliminacji $k_{e}$ opisuje szybkość, z jaką lek jest usuwany z organizmu. Całkowitą stałą eliminacji można wyrazić jako sumę stałych eliminacji nerkowej $k_{ren}$ i nienerkowej $k_{nren}$:\n",
    "$$ k_{e} = k_{ren} + k_{nren} $$\n",
    "Stała eliminacji nerkowej $k_{ren}$ odnosi się do eliminacji leku przez nerki, natomiast stała eliminacji nienerkowej $k_{nren}$ uwzględnia eliminację przez inne drogi, takie jak metabolizm w wątrobie czy wydalanie z żółcią."
   ]
  },
  {
   "cell_type": "markdown",
   "id": "74000e7c-edf3-40bd-a3eb-0ca54e85c086",
   "metadata": {},
   "source": [
    "#### Dostępność biologiczna\n",
    "\n",
    "Dostępność biologiczna $F$ określa ułamek podanej dawki leku, który dociera do krążenia systemowego w postaci niezmienionej. Jest wyrażana jako wartość procentowa i zależy od drogi podania leku. Matematycznie można ją obliczyć jako stosunek pola pod krzywą ($AUC$) stężenia leku w osoczu po podaniu pozanaczyniowym (np. doustnym) do $AUC$ po podaniu dożylnym.\n",
    "$$ F = \\left( \\frac{\\text{AUC}_{\\text{po}}}{\\text{AUC}_{\\text{iv}}} \\right) \\times 100 $$\n",
    "\n",
    "\n"
   ]
  },
  {
   "cell_type": "markdown",
   "id": "5f53dd43-be04-4d3e-a614-477dff581e7d",
   "metadata": {},
   "source": [
    "#### Klirens\n",
    "Klirens $CL$ jest miarą zdolności organizmu do eliminacji leku. Wyraża objętość krwi, która zostaje całkowicie oczyszczona z leku w jednostce czasu.\n",
    "$$CL = \\frac{D}{AUC}$$"
   ]
  },
  {
   "cell_type": "markdown",
   "id": "6e50c194-0cac-4291-b33d-89bd2e941169",
   "metadata": {},
   "source": [
    "#### Biologiczny okres półtrwania\n",
    "Okres półtrwania to czas potrzebny do zmniejszenia ilości leku we krwi o połowę. Jest obliczany na podstawie stałej szybkości eliminacji $k_{e}$:\n",
    "$$ t_{1/2} = \\frac{0.693}{k_{e}} $$"
   ]
  },
  {
   "cell_type": "markdown",
   "id": "e1a05222-5428-440c-8bee-43f31ce34f69",
   "metadata": {},
   "source": [
    "#### Pole pod krzywą\n",
    "$AUC$ reprezentuje całkowitą ekspozycję organizmu na lek i jest obliczane na podstawie stężenia leku w funkcji czasu:\n",
    "$$ AUC = \\int_{0}^{\\infty} C(t) dt $$"
   ]
  },
  {
   "cell_type": "markdown",
   "id": "c4a3d009-9c3e-4ed4-8a9e-f8673210bca2",
   "metadata": {},
   "source": [
    "## Model kompartmentowy - wprowadzenie\n",
    "\n",
    "Jednym z najprostszych modeli pozwalających na matematyczny opis losu leku w organizmie jest **model kompartmentowy**. Organizm ludzki składa się z wielu różnych rodzajów tkanek, jednak wiele tkanek wykazuje podobne własności wobec badanego leku. Model kompartmentowy zakłada, że organizm składa się z jednego lub kilku kompartmentów, czyli zbiorów takich \"podobnych\" tkanek.\n",
    "\n",
    "Na przykład, śledząc transport jonów potasu do wnętrza erytrocytów przyjmuje się model dwukompartmentowy. Wtedy jako jeden kompartment przyjmuje się wszystkie krwinki czerwone (erytrocyty), a jako drugi - otaczający je płyn (osocze).\n",
    "\n",
    "<a href=\"https://www.umb.edu.pl/photo/pliki/WF_jednostki/zaklad-chemii-fizycznej/farmakokinetyka_jako_dyscyplina_wiedzy.pdf\">źródło 1</a>,\n",
    "<a href=\"https://home.cyf-kr.edu.pl/~mfjawien/PKSoft/wprowadzenie.htm\">źródło 2</a>"
   ]
  },
  {
   "cell_type": "markdown",
   "id": "9970b47b-693f-405c-879f-2444fee3a3dd",
   "metadata": {},
   "source": [
    "## Model jednokompartmentowy\n",
    "Dla modelu jednokompartmentowego przyjmuje się następujące założenia:\n",
    "* Organizm człowieka to jeden kompartment o objętości dystrybucji $V_{d}$.\n",
    "* Po podaniu leku ($t=0$) dochodzi do natychmiastowego rozmieszczenia leku w ustroju.\n",
    "* W przypadku dawki pozanaczyniowej należy brać pod uwagę uwolnienie leku z postaci oraz jego wchłonięcie z miejsca podania do krążenia ogólnego. ***???***\n",
    "* We krwi (osoczu, surowicy) mierzymy stężenie niezmienionego leku. ***???***\n",
    "* Proces eliminacji jest procesem pierwszego rzędu.\n",
    "* Na stałą eliminacji ($k_{e}$) składają się stała eliminacji leku drogą nerkową *(renal elimination)* ($k_{ren}$) oraz pozanerkową *(non-renal elimination)* ($k_{nren}$): $k_{e} = k_{ren} + k_{nren}$\n",
    "\n",
    "<a href=\"https://www.ump.edu.pl/media/uid/0697-f0fadb562c7d742/1a1373.pdf\">źródło</a>"
   ]
  },
  {
   "cell_type": "markdown",
   "id": "4ddc50de-25dd-4bd9-a291-afaf45240cb5",
   "metadata": {},
   "source": [
    "### Podanie dożylne\n",
    "\n",
    "Transport leku po podaniu dożylnym opisuje równanie różniczkowe uwzględniające eliminację zgodnie z kinetyką pierwszego rzędu. Zakłada się, że eliminacja leku zachodzi w stałym tempie, proporcjonalnie do jego stężenia we krwi. Dodatkowo, przyjmuje się, że lek natychmiastowo rozprowadza się po organizmie, co oznacza, że trafia do układu krążenia bez opóźnienia, a jego dystrybucja jest natychmiastowa i równomierna. Na podstawie tych założeń można opisać matematycznie zmiany stężenia leku w organizmie pacjenta. \n",
    "Załóżmy, że:\\\n",
    "\n",
    "$X_0$ – początkowa masa leku podana dożylnie,\n",
    "$X(t)$ – masa leku we krwi w czasie $t$,\n",
    "$k_e$ – stała szybkości eliminacji przez nerki,\n",
    "$k_{nr}$ – stała szybkości eliminacji drogami pozanerkowymi,\n",
    "$K = k_e + k_{nr}$ – całkowita stała szybkości eliminacji,\n",
    "$V_d$ – objętość dystrybucji.\n",
    "\n",
    "*Równanie farmakokinetyczne*\n",
    "\n",
    "Zgodnie z kinetyką pierwszego rzędu, eliminacja leku jest opisana równaniem:\n",
    "$$ \\frac{\\mathrm{d}X(t)}{\\mathrm{d}t} = -K \\cdot X(t) $$\n",
    "\n",
    "\n",
    "*Rozwiązanie równania*\n",
    "\n",
    "Stosując metodę rozdzielonych zmiennych, otrzymujemy:\n",
    "$$ \\frac{1}{X(t)} \\frac{\\mathrm{d}X(t)}{\\mathrm{d}t} = -K $$\n",
    "\n",
    "Całkując, mamy:\n",
    "$$ \\ln X(t) - \\ln X_0 = -K \\cdot t $$\n",
    "\n",
    "Stąd:\n",
    "$$ X(t) = X_0 \\cdot e^{-K \\cdot t} $$\n",
    "\n",
    "\n",
    "*Zależność stężenia od czasu*\n",
    "\n",
    "Korzytając z definicji objętości dystrybucji:\n",
    "$$ V_d \\cdot C(t) = X_0 \\cdot e^{-K \\cdot t} $$\n",
    "\n",
    "Ostatecznie:\n",
    "$$ C(t) = \\frac{X_0}{V_d} \\cdot e^{-K \\cdot t} $$\n",
    "gdzie $C_0 = \\frac{X_0}{V_d}$, więc:\n",
    "$$ C(t) = C_0 \\cdot e^{-K \\cdot t} $$\n",
    "\n",
    "Podsumowanie:\n",
    "Model ten opisuje eliminację leku z organizmu po podaniu dożylnym. Otrzymana funkcja $C(t)$ daje możliwość obliczenia stężenia leku w dowolnym czasie. W praktyce klinicznej, ze względu na konieczność wielokrotnych dawek, stosuje się bardziej zaawansowane modele nieliniowe.\n",
    "\n",
    "\n",
    "\n",
    "\n",
    "\n",
    "<a href=\"https://www.ump.edu.pl/media/uid/0697-f0fadb562c7d742/1a1373.pdf\">źródło 1</a>,\n",
    "<a href=\"https://www.umb.edu.pl/photo/pliki/WF_jednostki/zaklad-chemii-fizycznej/farmakokinetyka_jako_dyscyplina_wiedzy.pdf\">źródło 2</a>;\n",
    "\n",
    "<a href=\"https://web.archive.org/web/20160508185420/https://www.agah.eu/fileadmin/_migrated/content_uploads/PK-glossary_PK_working_group_2004.pdf\">duzo parametrow i tu beda te U(t) i B(t)</a>\n",
    "\n"
   ]
  },
  {
   "cell_type": "markdown",
   "id": "35f13d7912bf951b",
   "metadata": {
    "jp-MarkdownHeadingCollapsed": true
   },
   "source": [
    "#### Podanie doustne\n",
    "\n",
    "W przypadku podania doustnego, lek musi przejść przez przewód pokarmowy, wchłonąć się do krążenia ogólnego i dopiero wtedy rozprowadza się w organizmie. Proces ten obejmuje uwolnienie leku z postaci, jego wchłanianie, dystrybucję, metabolizm i eliminację. Załóżmy, że:\\\n",
    "\n",
    "$ X_{D} $ - ilość leku w dawce;\\\n",
    "$ X $ - ilość leku we krwi w czasie $ t $;\\\n",
    "$ k_{a} $  i $ k_{e} $ to stałe szybkości wchłaniania i eliminacji.\\\n",
    "\n",
    "Model jednokompartmentowy zakłada kinetykę pierwszego rzędu dla wchłaniania i eliminacji. Możemy zapisać równania różniczkowe:\n",
    "\n",
    "$\\frac{dX_{D}}{dt} = -k_aX_{D}$ (opisujące wchłanianie);\n",
    "\n",
    "$\\frac{dX}{dt} = k_{a} X_{D} - k_{e} X$ (dla ilości leku we krwi).\n",
    "\n",
    "Rozwiązanie równania daje zależność:\n",
    "$$X(t) = \\frac{k_{a} X_{D}}{k_{a} - k_{e}} \\left(e^{-k_{e} t} - e^{-k_{a} t}\\right).$$\n",
    "Stężenie leku we krwi $C$ uzyskujemy, dzieląc ilość leku przez objętość dystrybucji $V_{d}$:\n",
    "$$C(t) = \\frac{X(t)}{V_{d}} = \\frac{k_{a} D}{V_{d} (k_{a} - k_{e})} \\left(e^{-k_{e} t} - e^{-k_{a} t}\\right);$$\n",
    "\n",
    "gdzie $D$ to dawka początkowa leku.\n",
    "\n",
    "Stężenie maksymalne $C_{\\text{max}}$ i czas do jego osiągnięcia $t_{\\text{max}}$ wyznaczamy z równania i jego pochodnej. W fazie początkowej (wchłaniania) szybkość wchłaniania dominuje nad eliminacją $k_a > k_e$, co skutkuje wzrostem stężenia leku. Po osiągnięciu $C_{\\text{max}}$, proces eliminacji zaczyna przeważać, powodując spadek stężenia.\n",
    "\n",
    "Proces wchłaniania może być modulowany technologią postaci leku, wpływając na wartość $t_{\\text{lag}}$, $k_a$ i biodostępność $F$. Dla większości leków doustnych $k_a > k_e$, co oznacza szybsze wchłanianie niż eliminacja.\n",
    "\n",
    "Podanie doustne wymaga uwzględnienia dodatkowych czynników, takich jak efekt pierwszego przejścia i zmienność biodostępności, które mogą wpływać na efektywne stężenie leku w osoczu.\n",
    "\n",
    "\n",
    "\n",
    "<a href=\"https://www.ump.edu.pl/media/uid/0697-f0fadb562c7d742/1a1373.pdf\">źródło</a>"
   ]
  },
  {
   "cell_type": "markdown",
   "id": "f1537aa9006c3a80",
   "metadata": {},
   "source": [
    "## Model dwukompartmentowy\n",
    "\n",
    "W modelu dwukompartmentowym zakłada się, że lek rozprowadza się w organizmie w dwóch kompartmentach:\n",
    "- **kompartment centralny** obejmuje krew i dobrze ukrwione narządy, takie jak wątroba czy nerki,\n",
    "- **kompartment obwodowy** obejmuje słabo ukrwione tkanki, takie jak mięśnie i tkanka tłuszczowa.\n",
    "\n",
    "#### Główne założenia modelu dwukompartmentowego:\n",
    "\n",
    "- Po podaniu dożylnym lek początkowo znajduje się wyłącznie w kompartmentach centralnym.\n",
    "- Dystrybucja do kompartmentu obwodowego zachodzi w fazie dystrybucji $\\alpha-faza$, a eliminacja leku zachodzi głównie w fazie eliminacji $\\beta-faza$.\n",
    "- Stałe szybkości $k_{12}$, $k_{21}$ opisują przejścia leku między kompartmentami, a $k_{10}$ opisuje eliminację z kompartmentu centralnego.\n",
    "\n",
    "#### Równanie opisujące stężenie leku we krwi:\n",
    "\n",
    "Stężenie leku $C_p(t)$ w czasie $t$ wyraża się jako suma dwóch wykładników:\n",
    "$$ C_p(t) = A e^{-\\alpha t} + B e^{-\\beta t}, $$\n",
    "gdzie:\n",
    "- $A, B$ – współczynniki zależne od dawki i parametrów farmakokinetycznych,\n",
    "- $\\alpha, \\beta$ – stałe szybkości opisujące dystrybucję i eliminację leku.\n",
    "\n",
    "#### Objętość dystrybucji w stanie ustalonym $(V_{d,ss})$:\n",
    "\n",
    "Objętość dystrybucji w stanie ustalonym odnosi się do całkowitej objętości obu kompartmentów w momencie równowagi dystrybucyjnej:\n",
    "$$ V_{d,ss} = V_c \\left(1 + \\frac{k_{12}}{k_{21}}\\right)$$\n",
    "gdzie $V_c$ to objętość kompartmentu centralnego.\n",
    "\n",
    "źródło - \"Two compartment Body Model and Vd Terms\" by Jeff Stark"
   ]
  },
  {
   "cell_type": "markdown",
   "id": "293c3e7d27e0847c",
   "metadata": {},
   "source": [
    "## Okres półtrwania\n",
    "Biologiczny okres półtrwania $t_{1/2}$, to czas, w którym stężenie leku spada do połowy początkowej wartości. Korzystając z modelu jednokompartmentowego, podstawiamy:\n",
    "$$ C(t_{1/2}) = \\frac{1}{2} C_{0}$$\n",
    "Stąd:\n",
    "$$ C_{0} e^{-k_{e}t_{1/2}} = \\frac{1}{2} C_{0} $$\n",
    "Dzieląc stronami przez $C_{0}$ otrzymujemy:\n",
    "$$ e^{-k_{e}t_{1/2}} = \\frac{1}{2} $$\n",
    "Logarytmujemy stronami i przekształcamy:\n",
    "$$ k_{e}t_{1/2} = \\ln{2} $$\n",
    "Ostatecznie otrzymujemy:\n",
    "$$ t_{1/2} = \\frac{\\ln{2}}{k_{e}} $$"
   ]
  },
  {
   "cell_type": "markdown",
   "id": "89d7249257f738ab",
   "metadata": {},
   "source": [
    "## Symulacja wchłaniania i eliminacji leku\n",
    "Aby pokazać dynamikę wchłaniania się leków w bardziej przystępny sposób, skorzystamy z komputerowych narzędzi do rozwiązywania i przedstawiania równań różniczkowych - Pythona, biblioteki MatPlotLib oraz interaktywnych widżetów pozwalających na zmianę parametrów. Zanim przedstawimy wykresy, zaimplementujemy różne numeryczne metody rozwiązywania równań różniczkowych, aby później sprawdzić ich akuratność wobec danych doświadczalnych."
   ]
  },
  {
   "cell_type": "markdown",
   "id": "a539ac25ae82091b",
   "metadata": {
    "jp-MarkdownHeadingCollapsed": true
   },
   "source": [
    "#### Jawna metoda Eulera\n",
    "\n",
    "Jest najprostsza do implementacji, ale też najmniej dokładna. Służy do rozwiązywania równań różniczkowych pierwszego rzędu w postaci\n",
    "$$ \\require{physics} \\dv{y}{x} = f(x, y),\\quad y(0) = y_{0}. $$\n",
    "Przedstawiana jest wzorem:\n",
    "$$ y_{n} = y_{n-1} + hf(x_{n-1}, y_{n-1}),$$\n",
    "gdzie $x_{n} = nh$ jest naszą \"siatką\", a $h > 0$ określa jej rozstaw.\n",
    "\n",
    "<a href=\"https://prac.im.pwr.edu.pl/~plociniczak/lib/exe/fetch.php?media=lecture.pdf\">źródło 1</a>\n",
    "<a href=\"https://home.agh.edu.pl/~kszopa/wp-content/uploads/2021/12/MN_lab5.pdf\">źródło 2</a>\n"
   ]
  },
  {
   "cell_type": "markdown",
   "id": "2f59f08657cb6e05",
   "metadata": {
    "jp-MarkdownHeadingCollapsed": true
   },
   "source": [
    "#### Metoda Rungego-Kutty IV rzędu\n",
    "\n",
    "Algorytm Rungego-Kutty IV rzędu jest bardziej skomplikowany, ale daje dokładniejsze przybliżenie niż metoda Eulera. Opisuje go wzór:\n",
    "$$ y_{n} = y_{n-1} + \\frac{1}{6}(k_{1}+2k_{2}+2k_{3}+k_{4})$$\n",
    "gdzie:\n",
    "$$k_1 = hf(x_{n-1},y_{n-1})$$\n",
    "$$k_2 = hf(x_{n-1} + \\frac{h}{2}, y_{n-1} + \\frac{k_{1}}{2})$$\n",
    "$$k_3 = hf(x_{n-1} + \\frac{h}{2}, y_{n-1} + \\frac{k_{2}}{2})$$\n",
    "$$k_4 = hf(x_{n-1} + h, y_{n-1} + k_{3})$$\n",
    "\n",
    "<a href=\"https://home.agh.edu.pl/~kszopa/wp-content/uploads/2021/12/MN_lab5.pdf\">źródło</a>\n"
   ]
  },
  {
   "cell_type": "markdown",
   "id": "3d5d61c2563cd2e0",
   "metadata": {},
   "source": [
    "#### Implementacja algorytmów\n",
    "\n",
    "Do zaimplementowania powyższych metod skorzystamy z języka programowania **Python** oraz bibliotek **Matplotlib** oraz **NumPy**. Aby zapewnić interaktywność wykresów, użyjemy narzędzia **IPyWidgets**.\n"
   ]
  },
  {
   "cell_type": "code",
   "execution_count": 64,
   "id": "79bd9d7f8f335120",
   "metadata": {
    "ExecuteTime": {
     "end_time": "2025-01-17T20:11:27.965134Z",
     "start_time": "2025-01-17T20:11:27.952667Z"
    }
   },
   "outputs": [],
   "source": [
    "from matplotlib import pyplot as plt\n",
    "import numpy as np\n",
    "from ipywidgets import interact, fixed\n",
    "import ipywidgets as widgets\n"
   ]
  },
  {
   "cell_type": "markdown",
   "id": "28624098a5717ba6",
   "metadata": {},
   "source": [
    "Teraz zdefiniujemy funkcje `euler_forward` oraz `runge_kutta`.\n"
   ]
  },
  {
   "cell_type": "code",
   "execution_count": 65,
   "id": "4907430f7634f462",
   "metadata": {
    "ExecuteTime": {
     "end_time": "2025-01-17T20:11:28.040638Z",
     "start_time": "2025-01-17T20:11:27.996401Z"
    }
   },
   "outputs": [],
   "source": [
    "def euler_forward(func, y_0, t, h):\n",
    "    \"\"\"Funkcja, która zwraca rozwiązane równanie różniczkowe metodą numeryczną Eulera dla podanych wartości\"\"\"\n",
    "    x_values = np.arange(0, t, h)\n",
    "    y_values = np.zeros((len(x_values), len(y_0)))\n",
    "    y_values[0] = y_0\n",
    "\n",
    "    for n in range(1, len(x_values)):\n",
    "        y_values[n] = y_values[n-1] + h * func(x_values[n-1], y_values[n-1])\n",
    "\n",
    "    return x_values, y_values\n",
    "\n",
    "def runge_kutta(func, y_0, t, h):\n",
    "    \"\"\"Funkcja, która zwraca rozwiązane równanie różniczkowe metodą numeryczną Rungego-Kutty dla podanych wartości\"\"\"\n",
    "    x_values = np.arange(0, t, h)\n",
    "    y_values = np.zeros((len(x_values), len(y_0)))\n",
    "    y_values[0] = y_0\n",
    "\n",
    "    for n in range(1, len(x_values)):\n",
    "        k1 = h * func(x_values[n - 1], y_values[n - 1])\n",
    "        k2 = h * func(x_values[n - 1] + h / 2, y_values[n - 1] + k1 / 2)\n",
    "        k3 = h * func(x_values[n - 1] + h / 2, y_values[n - 1] + k2 / 2)\n",
    "        k4 = h * func(x_values[n - 1] + h, y_values[n - 1] + k3)\n",
    "\n",
    "        y_values[n] = y_values[n - 1] + (1 / 6) * (k1 + 2 * k2 + 2 * k3 + k4)\n",
    "\n",
    "    return x_values, y_values\n"
   ]
  },
  {
   "cell_type": "markdown",
   "id": "1ed382fdfb5ae9d0",
   "metadata": {},
   "source": [
    "#### Porównanie metod numerycznych korzystając z przypadku podania dożylnego\n",
    "\n",
    "Najpierw stwórzmy wykres - załóżmy, że podano dożylnie 100mg pewnego leku. Nasze parametry $k_{ren}$ oraz $k_{nren}$ możemy zmieniać za pomocą suwaków, tak samo jak rozstaw siatki $h$. Dzięki temu możemy lepiej obserwować jak zmienia się dokładność w zależności od zarówno szybkości zmian ilości leku, jak i \"dokładności\" naszej metody numerycznej.\n"
   ]
  },
  {
   "cell_type": "code",
   "execution_count": 66,
   "id": "efd1f3271a60c60f",
   "metadata": {
    "ExecuteTime": {
     "end_time": "2025-01-17T20:11:29.275445Z",
     "start_time": "2025-01-17T20:11:28.063135Z"
    }
   },
   "outputs": [
    {
     "data": {
      "application/vnd.jupyter.widget-view+json": {
       "model_id": "c311b24a4ac24da192267f9e64d59815",
       "version_major": 2,
       "version_minor": 0
      },
      "text/plain": [
       "interactive(children=(FloatSlider(value=0.1, description='renal_rate', max=0.2, step=0.01), FloatSlider(value=…"
      ]
     },
     "metadata": {},
     "output_type": "display_data"
    },
    {
     "data": {
      "text/plain": [
       "<function __main__.injection_graph(dose=100, renal_rate=0.05, nonrenal_rate=0.1, time=50, grid=1)>"
      ]
     },
     "execution_count": 66,
     "metadata": {},
     "output_type": "execute_result"
    }
   ],
   "source": [
    "def injection_graph(dose=100, renal_rate=0.05, nonrenal_rate=0.1, time=50, grid=1):\n",
    "    def equations(t, y):\n",
    "        \"\"\"Funkcja, która zwraca f(x,y) dla odpowiednich równań, aby później przygotować rozwiązania numeryczne.\"\"\"\n",
    "        y_vein, y_renal, y_nonrenal, y_all = y\n",
    "        dy_vein = -(renal_rate + nonrenal_rate) * y_vein\n",
    "        dy_renal = renal_rate * y_vein\n",
    "        dy_nonrenal = nonrenal_rate * y_vein\n",
    "        dy_all = (renal_rate + nonrenal_rate) * y_vein\n",
    "        return np.array([dy_vein, dy_renal, dy_nonrenal, dy_all])\n",
    "\n",
    "    def analytical(y_0, t, spacing=0.1):  # odstępy siatki stałe i jak najmniejsze, żeby lepiej porównać z numerycznymi\n",
    "        \"\"\"Funkcja, która zwraca rozwiązania analityczne dla odpowiednich równań.\"\"\"\n",
    "        x_values = np.arange(0, t, spacing)\n",
    "        total_rate = renal_rate + nonrenal_rate\n",
    "        y_vein = y_0 * np.exp(-total_rate * x_values)\n",
    "        y_renal = y_0 * (renal_rate / total_rate) * (1 - np.exp(-total_rate * x_values))\n",
    "        y_nonrenal = y_0 * (nonrenal_rate / total_rate) * (1 - np.exp(-total_rate * x_values))\n",
    "        y_all = y_0 * (1 - np.exp(-total_rate * x_values))\n",
    "        return x_values, y_vein, y_renal, y_nonrenal, y_all\n",
    "\n",
    "    y_dose = [dose, 0, 0, 0]  # [lek we krwi, lek w moczu, lek w żółci/metabolitach, lek wydalony w całości]\n",
    "\n",
    "    # Rozwiązywanie równań i przyporządkowanie ich wyników do odpowiednich tablic\n",
    "    x_values_rk, y_values_rk = runge_kutta(equations, y_dose, time, grid)\n",
    "    y_vein_rk, y_renal_rk, y_nonrenal_rk, y_all_rk = y_values_rk.T\n",
    "    x_values_eul_f, y_values_eul_f = euler_forward(equations, y_dose, time, grid)\n",
    "    y_vein_eul_f, y_renal_eul_f, y_nonrenal_eul_f, y_all_eul_f = y_values_eul_f.T\n",
    "    x_values_analytical, y_vein_analytical, y_renal_analytical, y_nonrenal_analytical, y_all_analytical = analytical(dose, time)\n",
    "\n",
    "    # Rysowanie wykresu\n",
    "    plt.figure(figsize=(8, 8))\n",
    "    plt.suptitle(\"Porównanie metod numerycznych z metodą analityczną\", fontweight='bold', fontsize=15)\n",
    "\n",
    "    # Wykres porównujący rozwiązanie analityczne i metodą Rungego-Kutty\n",
    "    plt.subplot(2, 1, 1)\n",
    "    plt.plot(x_values_analytical, y_vein_analytical, 'r', label=\"Analityczna - lek we krwi\")\n",
    "    plt.plot(x_values_analytical, y_renal_analytical, 'y', label=\"Analityczna - lek w moczu\")\n",
    "    plt.plot(x_values_analytical, y_nonrenal_analytical, 'b', label=\"Analityczna - lek w żółci/metabolity\")\n",
    "    plt.plot(x_values_analytical, y_all_analytical, 'g', label=\"Analityczna - lek wydalony (całość)\")\n",
    "\n",
    "    plt.plot(x_values_rk, y_vein_rk, 'r--', label=\"Rungego-Kutty - lek we krwi\")\n",
    "    plt.plot(x_values_rk, y_renal_rk, 'y--', label=\"Rungego-Kutty - lek w moczu\")\n",
    "    plt.plot(x_values_rk, y_nonrenal_rk, 'b--', label=\"Rungego-Kutty - lek w żółci/metabolity\")\n",
    "    plt.plot(x_values_rk, y_all_rk, 'g--', label=\"Rungego-Kutty - lek wydalony (całość)\")\n",
    "\n",
    "    plt.title(\"Porównanie metody analitycznej i Rungego-Kutty\")\n",
    "    plt.legend(loc='center left', bbox_to_anchor=(1, 0.5), fancybox=True)\n",
    "    plt.xlabel(\"Czas (godziny)\")\n",
    "    plt.ylabel(\"Stężenie (mg)\")\n",
    "    plt.grid()\n",
    "\n",
    "    # Wykres porównujący rozwiazanie analityczne i metodą Eulera\n",
    "    plt.subplot(2, 1, 2)\n",
    "    plt.plot(x_values_analytical, y_vein_analytical, 'r', label=\"Analityczna - lek we krwi\")\n",
    "    plt.plot(x_values_analytical, y_renal_analytical, 'y', label=\"Analityczna - lek w moczu\")\n",
    "    plt.plot(x_values_analytical, y_nonrenal_analytical, 'b', label=\"Analityczna - lek w żółci/metabolity\")\n",
    "    plt.plot(x_values_analytical, y_all_analytical, 'g', label=\"Analityczna - lek wydalony (całość)\")\n",
    "\n",
    "    plt.plot(x_values_eul_f, y_vein_eul_f, 'r:', label=\"Eulera - lek we krwi\")\n",
    "    plt.plot(x_values_eul_f, y_renal_eul_f, 'y:', label=\"Eulera - lek w moczu\")\n",
    "    plt.plot(x_values_eul_f, y_nonrenal_eul_f, 'b:', label=\"Eulera - lek w żółci/metabolity\")\n",
    "    plt.plot(x_values_eul_f, y_all_eul_f, 'g:', label=\"Eulera - lek wydalony (całość)\")\n",
    "\n",
    "    plt.title(\"Porównanie metody analitycznej i Eulera\")\n",
    "    plt.legend(loc='center left', bbox_to_anchor=(1, 0.5))\n",
    "    plt.xlabel(\"Czas (godziny)\")\n",
    "    plt.ylabel(\"Stężenie (mg)\")\n",
    "    plt.grid()\n",
    "\n",
    "    plt.tight_layout()\n",
    "    plt.show()\n",
    "\n",
    "interact(injection_graph, dose=fixed(100), renal_rate=widgets.FloatSlider(min=0.0, max=0.2, step=0.01, value=0.1), nonrenal_rate = widgets.FloatSlider(min=0.0, max=0.2, step=0.01, value=0.05), time=fixed(50), grid=widgets.FloatSlider(min=0.1, max=10.0, step=0.1, value=1.0))\n"
   ]
  },
  {
   "cell_type": "markdown",
   "id": "ceaf84f88d43cf0e",
   "metadata": {},
   "source": [
    "Możemy zauważyć, tak jak się spodziewaliśmy, że im większa wartość $h$, tym mniej dokładne są metody numeryczne. W szczególności, korzystając z metody jawnej Eurela, przy większym rozstawie siatki nasze wykresy zaczynają się \"rozjeżdżać\". Ponadto, przy tym samym $h$, im wyższe wartości będące składnikami $k_{e}$ (czyli im szybsze tempo zmian), tym mniej dokładne są nasze metody. Dzieje się tak, ponieważ przy dużym $k$ metoda numeryczna może \"nie nadążać\" za zbyt szybkim tempem zmian funkcji.\n"
   ]
  },
  {
   "cell_type": "markdown",
   "id": "f6460a17f9718b12",
   "metadata": {},
   "source": []
  }
 ],
 "metadata": {
  "kernelspec": {
   "display_name": "Python 3 (ipykernel)",
   "language": "python",
   "name": "python3"
  },
  "language_info": {
   "codemirror_mode": {
    "name": "ipython",
    "version": 3
   },
   "file_extension": ".py",
   "mimetype": "text/x-python",
   "name": "python",
   "nbconvert_exporter": "python",
   "pygments_lexer": "ipython3",
   "version": "3.12.0"
  }
 },
 "nbformat": 4,
 "nbformat_minor": 5
}
