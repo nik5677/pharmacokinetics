{
 "cells": [
  {
   "cell_type": "markdown",
   "id": "e8ea98a3f6f599e5",
   "metadata": {},
   "source": [
    "# Omówienie modelu jednokompartmentowego wchłaniania i eliminacji leków\n",
    "### Autorzy: Nadia Moska (277499) i Nikodem Drelak (277426)"
   ]
  },
  {
   "cell_type": "markdown",
   "id": "fead1377-b43a-44a4-adc9-9ccd40853c8f",
   "metadata": {},
   "source": [
    "## Spis treści\n",
    "1. [Wstęp i definicja](#Wstęp-i-definicja)\n",
    "    * [Cel pracy i motywacja](#Cel-pracy-i-motywacja)\n",
    "    * [Historia farmakokinetyki](#Historia-farmakokinetyki)\n",
    "2. [Podstawowe parametry farmakokinetyczne](#Podstawowe-parametry-farmakokinetyczne)\n",
    "    * [Objętość dystrybucji](#Objętość-dystrybucji)\n",
    "    * [Stała eliminacji](#Stała-eliminacji)\n",
    "    * [Dostępność biologiczna](#Dostępność-biologiczna)\n",
    "    * [Biologiczny okres półtrwania](#Biologiczny-okres-półtrwania)\n",
    "    * [Pole pod krzywą](#Pole-pod-krzywą)\n",
    "3. [Podanie dożylne](#Podanie-dożylne)\n",
    "4. [Podanie doustne](#Podanie-doustne)\n",
    "5. [Symulacja wchłaniania i eliminacji leku](#Symulacja-wchłaniania-i-eliminacji-leku)\n",
    "    * [Jawna metoda Eulera](#Jawna-metoda-Eulera)\n",
    "    * [Metoda Rungego-Kutty IV rzędu](#Metoda-Rungego-Kutty-IV-rzędu)\n",
    "    * [Implementacja algorytmów](#Implementacja-algorytmów)\n",
    "    * [Porównanie metod numerycznych korzystając z przypadku podania dożylnego](#Porównanie-metod-numerycznych-korzystając-z-przypadku-podania-dożylnego)\n",
    "    * [Wyznaczanie parametrów farmakokinetycznych na podstawie dostępnych danych](#Wyznaczanie-parametrów-farmakokinetycznych-na-podstawie-dostępnych-danych)\n",
    "6. [Podsumowanie](#Podsumowanie)\n",
    "7. [Przypisy](#Przypisy)"
   ]
  },
  {
   "cell_type": "markdown",
   "id": "769982ee-d30b-44c6-97b3-b9c7b4312cea",
   "metadata": {},
   "source": [
    "## Wstęp i definicja\n",
    "\n",
    "Farmakokinetyka bada procesy biotransformacji, dystrybucji i wchłaniania (głównie) leków i ich metabolitów oraz ich eliminacji z organizmu w czasie. Rzeczywiste procesy zachodzące w organiźmie są na tyle skomplikowane, że ich pełny opis jest niemożliwy. Natomiast w wielu przypadkach udaje się stworzyć przybliżony, ale wystarczająco dokładny model. Umiejętne wykorzystanie modeli farmakokinetycznych ułatwia dostosowanie dawkowania, a tym samym zmniejszenie ryzyka wystąpienia niepożądanych efektów ubocznych u chorego.\n",
    "\n",
    "Jednym z najprostszych modeli pozwalających na matematyczny opis losu leku w organizmie jest **model kompartmentowy**. Organizm ludzki składa się z wielu różnych rodzajów tkanek, jednak wiele tkanek wykazuje podobne własności wobec badanego leku. Model kompartmentowy zakłada, że organizm składa się z jednego lub kilku kompartmentów, czyli zbiorów takich \"podobnych\" tkanek [1]. W naszej pracy skupimy się na modelu **jednokompartmentowym**, czyli zakładającym, że wszystkie tkanki zachowują się w ten sam sposób wobec badanej substancji."
   ]
  },
  {
   "cell_type": "markdown",
   "id": "acf4c555-0bb4-4b16-935d-9a6530bfaf7f",
   "metadata": {},
   "source": [
    "#### Cel pracy i motywacja\n",
    "\n",
    "Celem jest przedstawienie modelowania farmakokinetyki leku przy użyciu równań różniczkowych opisujących jego wchłanianie, dystrybucję, metabolizm i eliminację. Projekt obejmuje zarówno analityczne, jak i numeryczne rozwiązania tych równań oraz analizę ich zgodności z danymi eksperymentalnymi.\n",
    "\n",
    "Odpowiednie dawkowanie leków zwiększa skuteczność terapii i zmniejsza ryzyko skutków ubocznych. Farmakokinetyka umożliwia precyzyjne ustalenie optymalnych dawek, które zapewniają maksymalny efekt terapeutyczny przy minimalnym ryzyku toksyczności. Modele matematyczne pozwalają indywidualnie dostosować terapię, zwiększając jej bezpieczeństwo i efektywność.\n"
   ]
  },
  {
   "cell_type": "markdown",
   "id": "9196c057-c3d8-4738-b14f-8b58e75d0d72",
   "metadata": {},
   "source": [
    "#### Historia farmakokinetyki\n",
    "\n",
    "Farmakokinetyka, jako dziedzina nauki zajmująca się badaniem losów leków w organizmach żywych, ma swoje korzenie w początkach XX wieku, kiedy to zaczęto dostrzegać znaczenie analizowania procesów związanych z wchłanianiem, dystrybucją, metabolizowaniem i wydalaniem leków (ADME). W pierwszych latach rozwoju farmakokinetyki podstawowe badania koncentrowały się głównie na prostych pomiarach stężenia leków w organizmach. Jednakże to dopiero rozwój technologii analitycznych w drugiej połowie XX wieku, takich jak chromatografia gazowa i cieczowa, a także techniki spektrometrii mas, umożliwił szczegółowe badanie tych procesów na poziomie molekularnym.\n",
    "\n",
    "W latach 50. i 60. XX wieku zaczęły pojawiać się pierwsze modele matematyczne opisujące farmakokinetykę, takie jak modele jednokomorowe, które traktowały organizm jako pojedynczy „pojemnik” dla leku. Następnie, z biegiem lat, wprowadzono bardziej skomplikowane modele wielokomorowe, które pozwalały na dokładniejsze odwzorowanie procesów farmakokinetycznych w różnych tkankach ciała. W miarę postępu technologii, badania farmakokinetyczne stały się niezbędnym elementem w opracowywaniu nowych leków oraz w indywidualizacji terapii.\n",
    "\n",
    "Dzięki osiągnięciom farmakokinetyki, w dzisiejszych czasach możliwe jest dokładne przewidywanie reakcji organizmu na leki, co przyczynia się do lepszej skuteczności leczenia oraz zmniejszenia ryzyka działań niepożądanych [2]."
   ]
  },
  {
   "cell_type": "markdown",
   "id": "a9391996-8239-4381-aaba-897eadeb74c6",
   "metadata": {},
   "source": [
    "## Podstawowe parametry farmakokinetyczne\n",
    "\n",
    "W celu zbudowania modelu, potrzebujemy zdefiniować kilka parametrów definiujących różne właściwości leku."
   ]
  },
  {
   "cell_type": "markdown",
   "id": "74f9762e-77f2-4928-91d5-3519ba7e03d6",
   "metadata": {},
   "source": [
    "#### Objętość dystrybucji\n",
    "\n",
    "Objętość dystrybucji (oznaczana jako $V_{d}$) to hipotetyczna objętość płynów ustrojowych, w której lek byłby rozmieszczony\n",
    "równomiernie, aby osiągnąć takie samo stężenie, jakie obserwujemy we krwi.\n",
    "$$ V_{d} = \\frac{D}{C}, $$\n",
    "gdzie:\n",
    "* $D$ - podana dawka leku,\n",
    "* $C$ - stężenie leku we krwi po rozmieszaniu."
   ]
  },
  {
   "cell_type": "markdown",
   "id": "95bfaa55-eef4-4f72-adb4-73cad8dd4bc0",
   "metadata": {},
   "source": [
    "#### Stała eliminacji\n",
    "Stała eliminacji $k_{e}$ opisuje szybkość, z jaką lek jest usuwany z organizmu. Całkowitą stałą eliminacji można wyrazić jako sumę stałych eliminacji nerkowej $k_{ren}$ i nienerkowej $k_{nren}$:\n",
    "$$ k_{e} = k_{ren} + k_{nren}. $$\n",
    "Stała eliminacji nerkowej $k_{ren}$ odnosi się do eliminacji leku przez nerki, natomiast stała eliminacji nienerkowej $k_{nren}$ uwzględnia eliminację przez inne drogi, takie jak metabolizm w wątrobie czy wydalanie z żółcią."
   ]
  },
  {
   "cell_type": "markdown",
   "id": "74000e7c-edf3-40bd-a3eb-0ca54e85c086",
   "metadata": {},
   "source": [
    "#### Dostępność biologiczna\n",
    "\n",
    "Dostępność biologiczna $F$ określa ułamek podanej dawki leku, który dociera do krążenia systemowego w postaci niezmienionej. Jest wyrażana jako wartość procentowa i zależy od drogi podania leku. Matematycznie można ją obliczyć jako stosunek pola pod krzywą ($AUC$) stężenia leku w osoczu po podaniu pozanaczyniowym (np. doustnym) do $AUC$ po podaniu dożylnym:\n",
    "$$ F = \\left( \\frac{\\text{AUC}_{\\text{po}}}{\\text{AUC}_{\\text{iv}}} \\right) \\times 100 \\%. $$\n",
    "\n",
    "\n"
   ]
  },
  {
   "cell_type": "markdown",
   "id": "6e50c194-0cac-4291-b33d-89bd2e941169",
   "metadata": {},
   "source": [
    "#### Biologiczny okres półtrwania\n",
    "Okres półtrwania to czas potrzebny do zmniejszenia ilości leku we krwi o połowę. Wyprowadzamy go z równania\n",
    "$$ C(t_{1/2}) = \\frac{1}{2} C_{0}. $$\n",
    "Jest obliczany na podstawie stałej szybkości eliminacji $k_{e}$:\n",
    "$$ t_{1/2} = \\frac{\\ln{2}}{k_{e}} \\approx \\frac{0.693}{k_{e}}. $$"
   ]
  },
  {
   "cell_type": "markdown",
   "id": "70a68081a699ac92",
   "metadata": {},
   "source": [
    "#### Pole pod krzywą\n",
    "$AUC$ reprezentuje całkowitą ekspozycję organizmu na lek i jest obliczane na podstawie stężenia leku w funkcji czasu:\n",
    "$$ AUC = \\int_{0}^{\\infty} C(t) dt. $$"
   ]
  },
  {
   "cell_type": "markdown",
   "id": "ba28bd0d2259a344",
   "metadata": {},
   "source": [
    "###### Wzory z rozdziału *Podstawowe parametry farmakokinetyczne* zostały zaczerpnięte z [3], [4]."
   ]
  },
  {
   "cell_type": "markdown",
   "id": "4ddc50de-25dd-4bd9-a291-afaf45240cb5",
   "metadata": {},
   "source": [
    "## Podanie dożylne\n",
    "\n",
    "Transport leku po podaniu dożylnym możemy (w uproszczeniu) opisać równaniem różniczkowym uwzględniającym eliminację zgodnie z kinetyką pierwszego rzędu. Zakładamy, że eliminacja leku zachodzi w stałym tempie, proporcjonalnie do jego stężenia we krwi. Dodatkowo, przyjmujemy, że lek natychmiastowo rozprowadza się po organizmie (trafia do układu krążenia bez opóźnienia), a jego dystrybucja jest natychmiastowa i równomierna. Na podstawie tych założeń możemy opisać zmiany stężenia leku w organizmie. Niech\n",
    "* $ X_{D} $ – początkowa ilość leku podana dożylnie;\n",
    "* $ X(t) $ – ilość leku we krwi (reprezentującej cały kompartment) w czasie $ t $;\n",
    "* $ k_{e} $ - stała eliminacji;\n",
    "* $ V_d $ – objętość dystrybucji.\n",
    "\n",
    "Zgodnie z kinetyką pierwszego rzędu, eliminacja leku jest opisana równaniem\n",
    "$$ \\require{physics} \\dv{X(t)}{t} = -k_{e}X(t). $$\n",
    "Rozwiązując je metodą rozdzielenia zmiennych otrzymujemy nasze równanie funkcji zależności ilości leku we krwi od czasu:\n",
    "$$ X(t) = X_{D} e^{-k_{e}t}. $$\n",
    "Ponieważ, zakładając że ilość leku w organizmie jest odwrotna niż ilość leku poza organizmem, zachodzi\n",
    "$$ \\require{physics} -\\dv{X(t)}{t} = k_{e}X(t) = k_{ren}X(t) + k_{nren}X(t) = \\dv{U(t)}{t} + \\dv{B(t)}{t} \\tag{$\\ast$}. $$\n",
    "Korzystając z $($$\\ast$$)$, możemy wyznaczyć odpowiednio funkcje:\n",
    "* $ U(t) $ - ilość leku wydalona drogą nerkową (z moczu);\n",
    "* $ B(t) $ - ilość leku wydalona drogami pozanerkowymi (z żółcią oraz jako metabolity w osoczu).\n",
    "\n",
    "Zatem nasz model wchłaniania i wydalania leku możemy opisać układem równań:\n",
    "$$ \\begin{cases}\n",
    "\\dv{X(t)}{t} = -k_{e}X(t)\\\\\n",
    "\\dv{U(t)}{t} = k_{ren}X(t)\\\\\n",
    "\\dv{B(t)}{t} = k_{nren}X(t).\n",
    "\\end{cases} $$\n",
    "Po rozwiązaniu ma on postać:\n",
    "$$ \\begin{cases}\n",
    "X(t) = X_{D} e^{-k_{e}t}\\\\\n",
    "U(t) = \\frac{k_{ren}}{k_{e}} X_{D} (1-e^{-k_{e}t})\\\\\n",
    "B(t) = \\frac{k_{nren}}{k_{e}} X_{D} (1-e^{-k_{e}t}).\n",
    "\\end{cases} $$\n",
    "Chcąc wyznaczyć stężenie leku we krwi (ponieważ, doświadczalnie, nie da się wyznaczyć jego całkowitej ilości w organizmie), możemy podstawić\n",
    "$$ C = \\frac{D}{V_{d}}, $$\n",
    "gdzie $C$ to stężenie, $D$ to ilość leku, a $V_{d}$ - objętość dystrybucji. $V_{d}$ jest stała, dlatego, na przykład, dla $X(t)$ dostajemy\n",
    "$$ C(t) = C_{0} e^{-k_{e}t}, $$\n",
    "gdzie $C_{0}$ to stężenie początkowe.\n",
    "Ponadto, możemy wziąć pod uwagę dostępność biologiczną $F$, aby dokładniej opisać eliminację leku. Wtedy:\n",
    "$$ -C(t) = C_{0}F e^{-k_{e}t}. $$"
   ]
  },
  {
   "cell_type": "markdown",
   "id": "35f13d7912bf951b",
   "metadata": {},
   "source": [
    "## Podanie doustne\n",
    "\n",
    "W przypadku podania doustnego, lek musi przejść przez przewód pokarmowy, wchłonąć się do krążenia ogólnego i dopiero wtedy rozprowadza się w organizmie. Proces ten obejmuje uwolnienie leku z postaci, jego wchłanianie, dystrybucję, metabolizm i eliminację. Załóżmy, że\n",
    "* $ X_{D}$ - dawka początkowa leku;\n",
    "* $ X_{A}(t) $ - ilość leku przed wchłonięciem w czasie $ t $;\n",
    "* $ X_{E}(t) $ - wydalona ilość leku (wszystkimi drogami) w czasie $ t $;\n",
    "* $ X(t) $ - ilość leku we krwi w czasie $ t $;\n",
    "* $ k_{a} $, $ k_{e} $ - stałe, odpowiednio, wchłaniania i eliminacji.\n",
    "\n",
    "Model jednokompartmentowy zakłada kinetykę pierwszego rzędu dla wchłaniania i eliminacji. Nasz model może być opisany przez układ równań opisujący kolejno: ilość w miejscu wchłaniania, ilość wydaloną, oraz całkowitą ilość leku we krwi. Najpierw zapiszmy układ równań rózniczkowych opisujący szybkość tych zmian.\n",
    "$$ \\begin{cases} \\require{physics}\n",
    "\\dv{X_{A}(t)}{t} = -k_{a} X_{A}(t)\\\\\n",
    "\\dv{X_{E}(t)}{t} = k_{e} X(t)\\\\\n",
    "\\dv{X(t)}{t} = k_{a} X_{A}(t) - k_{e} X(t) = -\\left(\\dv{X_{A}(t)}{t} + \\dv{X_{E}(t)}{t}\\right).\n",
    "\\end{cases} $$\n",
    "Układ równań po rozwiązaniu:\n",
    "$$ \\begin{cases} \\require{physics}\n",
    "X_{A}(t) = X_{D} e^{-k_{a} t}\\\\\n",
    "X_{E}(t) = X_{D} - X_{A}(t) - X(t)\\\\\n",
    "X(t) = \\frac{k_{a} X_{D}}{k_{a} - k_{e}} \\left( e^{-k_{e} t} - e^{-k_{a} t} \\right).\n",
    "\\end{cases} $$\n",
    "Podobnie jak w podaniu dożylnym, tutaj także uzyskamy stężenie leku we krwi $C(t)$, dzieląc ilość leku przez objętość dystrybucji $V_{d}$:\n",
    "$$C(t) = \\frac{X(t)}{V_{d}} = \\frac{k_{a} X_{D}}{V_{d} (k_{a} - k_{e})} \\left(e^{-k_{e} t} - e^{-k_{a} t}\\right),$$\n",
    "gdzie $D$ to dawka początkowa leku."
   ]
  },
  {
   "cell_type": "markdown",
   "id": "e1e0736b2bf6becb",
   "metadata": {},
   "source": [
    "###### Wzory z rozdziałów *Podanie dożylne*, *Podanie doustne* zostały zaczerpnięte z [4], [5]."
   ]
  },
  {
   "cell_type": "markdown",
   "id": "89d7249257f738ab",
   "metadata": {},
   "source": [
    "## Symulacja wchłaniania i eliminacji leku\n",
    "\n",
    "Aby pokazać dynamikę wchłaniania się leków w bardziej przystępny sposób, skorzystamy z komputerowych narzędzi do rozwiązywania i przedstawiania równań różniczkowych - Pythona, biblioteki MatPlotLib oraz interaktywnych widżetów pozwalających na zmianę parametrów. Zanim przedstawimy wykresy, zaimplementujemy różne numeryczne metody rozwiązywania równań różniczkowych, aby później sprawdzić ich akuratność wobec danych doświadczalnych."
   ]
  },
  {
   "cell_type": "markdown",
   "id": "a539ac25ae82091b",
   "metadata": {
    "jp-MarkdownHeadingCollapsed": true
   },
   "source": [
    "#### Jawna metoda Eulera\n",
    "\n",
    "Jest najprostsza do implementacji, ale też najmniej dokładna. Służy do rozwiązywania równań różniczkowych pierwszego rzędu w postaci\n",
    "$$ \\require{physics} \\dv{y}{x} = f(x, y),\\quad y(0) = y_{0}. $$\n",
    "Przedstawiana jest wzorem:\n",
    "$$ y_{n} = y_{n-1} + hf(x_{n-1}, y_{n-1}),$$\n",
    "gdzie $x_{n} = nh$ jest naszą \"siatką\", a $h > 0$ określa jej rozstaw [6].\n",
    "\n"
   ]
  },
  {
   "cell_type": "markdown",
   "id": "2f59f08657cb6e05",
   "metadata": {},
   "source": [
    "#### Metoda Rungego-Kutty IV rzędu\n",
    "\n",
    "Algorytm Rungego-Kutty IV rzędu jest bardziej skomplikowany, ale daje dokładniejsze przybliżenie niż metoda Eulera [7]. Opisuje go wzór\n",
    "$$ y_{n} = y_{n-1} + \\frac{1}{6}(k_{1}+2k_{2}+2k_{3}+k_{4}),$$\n",
    "gdzie:\n",
    "$$ k_1 = hf(x_{n-1},y_{n-1}); $$\n",
    "$$ k_2 = hf(x_{n-1} + \\frac{h}{2}, y_{n-1} + \\frac{k_{1}}{2}); $$\n",
    "$$ k_3 = hf(x_{n-1} + \\frac{h}{2}, y_{n-1} + \\frac{k_{2}}{2}); $$\n",
    "$$ k_4 = hf(x_{n-1} + h, y_{n-1} + k_{3}). $$"
   ]
  },
  {
   "cell_type": "markdown",
   "id": "8785832e8f6af8aa",
   "metadata": {},
   "source": [
    "###### Wzory z podrozdziałów *Jawna metoda Eulera*, *Metoda Rungego-Kutty IV rzędu* zostały zaczerpnięte z [6], [7]."
   ]
  },
  {
   "cell_type": "markdown",
   "id": "3d5d61c2563cd2e0",
   "metadata": {},
   "source": [
    "#### Implementacja algorytmów\n",
    "\n",
    "Do zaimplementowania powyższych metod skorzystamy z języka programowania **Python** oraz bibliotek **Matplotlib** oraz **NumPy**. Aby zapewnić interaktywność wykresów, użyjemy narzędzia **IPyWidgets**.\n"
   ]
  },
  {
   "cell_type": "code",
   "id": "79bd9d7f8f335120",
   "metadata": {
    "ExecuteTime": {
     "end_time": "2025-06-08T14:20:39.806761Z",
     "start_time": "2025-06-08T14:20:38.107503Z"
    }
   },
   "source": [
    "from matplotlib import pyplot as plt\n",
    "import numpy as np\n",
    "from ipywidgets import interact, fixed\n",
    "import ipywidgets as widgets\n"
   ],
   "outputs": [],
   "execution_count": 1
  },
  {
   "cell_type": "markdown",
   "id": "28624098a5717ba6",
   "metadata": {},
   "source": [
    "Teraz zdefiniujemy funkcje `euler_forward` oraz `runge_kutta`.\n"
   ]
  },
  {
   "cell_type": "code",
   "id": "4907430f7634f462",
   "metadata": {
    "ExecuteTime": {
     "end_time": "2025-06-08T14:20:39.898390Z",
     "start_time": "2025-06-08T14:20:39.855108Z"
    }
   },
   "source": [
    "def euler_forward(func, y_0, t, h):\n",
    "    \"\"\"Funkcja, która zwraca rozwiązane równanie różniczkowe metodą numeryczną Eulera dla podanych wartości\"\"\"\n",
    "    x_values = np.arange(0, t, h)\n",
    "    y_values = np.zeros((len(x_values), len(y_0)))\n",
    "    y_values[0] = y_0\n",
    "\n",
    "    for n in range(1, len(x_values)):\n",
    "        y_values[n] = y_values[n-1] + h * func(x_values[n-1], y_values[n-1])\n",
    "\n",
    "    return x_values, y_values\n",
    "\n",
    "def runge_kutta(func, y_0, t, h):\n",
    "    \"\"\"Funkcja, która zwraca rozwiązane równanie różniczkowe metodą numeryczną Rungego-Kutty dla podanych wartości\"\"\"\n",
    "    x_values = np.arange(0, t, h)\n",
    "    y_values = np.zeros((len(x_values), len(y_0)))\n",
    "    y_values[0] = y_0\n",
    "\n",
    "    for n in range(1, len(x_values)):\n",
    "        k1 = h * func(x_values[n - 1], y_values[n - 1])\n",
    "        k2 = h * func(x_values[n - 1] + h / 2, y_values[n - 1] + k1 / 2)\n",
    "        k3 = h * func(x_values[n - 1] + h / 2, y_values[n - 1] + k2 / 2)\n",
    "        k4 = h * func(x_values[n - 1] + h, y_values[n - 1] + k3)\n",
    "\n",
    "        y_values[n] = y_values[n - 1] + (1 / 6) * (k1 + 2 * k2 + 2 * k3 + k4)\n",
    "\n",
    "    return x_values, y_values\n"
   ],
   "outputs": [],
   "execution_count": 2
  },
  {
   "cell_type": "markdown",
   "id": "1ed382fdfb5ae9d0",
   "metadata": {},
   "source": [
    "#### Porównanie metod numerycznych korzystając z przypadku podania dożylnego\n",
    "\n",
    "Najpierw stwórzmy wykres - załóżmy, że podano dożylnie 100mg pewnego leku. Nasze parametry $k_{ren}$ oraz $k_{nren}$ możemy zmieniać za pomocą suwaków, tak samo jak rozstaw siatki $h$. Dzięki temu możemy lepiej obserwować jak zmienia się dokładność w zależności od zarówno szybkości zmian ilości leku, jak i \"dokładności\" naszej metody numerycznej.\n"
   ]
  },
  {
   "cell_type": "code",
   "id": "efd1f3271a60c60f",
   "metadata": {
    "ExecuteTime": {
     "end_time": "2025-06-08T14:20:41.762272Z",
     "start_time": "2025-06-08T14:20:40.400069Z"
    }
   },
   "source": [
    "def injection_graph(initial_dose=100, renal_rate=0.05, nonrenal_rate=0.1, time=50, grid=1):\n",
    "    def equations(t, y):\n",
    "        \"\"\"Funkcja, która zwraca f(x,y) dla odpowiednich równań, aby później przygotować rozwiązania numeryczne.\"\"\"\n",
    "        y_vein, y_renal, y_nonrenal, y_all = y\n",
    "        dy_vein = -(renal_rate + nonrenal_rate) * y_vein\n",
    "        dy_renal = renal_rate * y_vein\n",
    "        dy_nonrenal = nonrenal_rate * y_vein\n",
    "        dy_all = (renal_rate + nonrenal_rate) * y_vein\n",
    "        return np.array([dy_vein, dy_renal, dy_nonrenal, dy_all])\n",
    "\n",
    "    def analytical(y_0, t, spacing=0.1):  # odstępy siatki stałe i jak najmniejsze, żeby lepiej porównać z numerycznymi\n",
    "        \"\"\"Funkcja, która zwraca rozwiązania analityczne dla odpowiednich równań.\"\"\"\n",
    "        x_values = np.arange(0, t, spacing)\n",
    "        total_rate = renal_rate + nonrenal_rate\n",
    "        y_vein = y_0 * np.exp(-total_rate * x_values)\n",
    "        y_renal = y_0 * (renal_rate / total_rate) * (1 - np.exp(-total_rate * x_values))\n",
    "        y_nonrenal = y_0 * (nonrenal_rate / total_rate) * (1 - np.exp(-total_rate * x_values))\n",
    "        y_all = y_0 * (1 - np.exp(-total_rate * x_values))\n",
    "        return x_values, y_vein, y_renal, y_nonrenal, y_all\n",
    "\n",
    "    y_dose = [initial_dose, 0, 0, 0]  # [lek we krwi, lek wydalony z moczem, lek wydalony nienerkowo, lek wydalony w całości]\n",
    "\n",
    "    # Rozwiązywanie równań i przyporządkowanie ich wyników do odpowiednich tablic\n",
    "    x_values_rk, y_values_rk = runge_kutta(equations, y_dose, time, grid)\n",
    "    y_vein_rk, y_renal_rk, y_nonrenal_rk, y_all_rk = y_values_rk.T\n",
    "    x_values_eul_f, y_values_eul_f = euler_forward(equations, y_dose, time, grid)\n",
    "    y_vein_eul_f, y_renal_eul_f, y_nonrenal_eul_f, y_all_eul_f = y_values_eul_f.T\n",
    "    x_values_analytical, y_vein_analytical, y_renal_analytical, y_nonrenal_analytical, y_all_analytical = analytical(initial_dose, time)\n",
    "\n",
    "    # Rysowanie wykresu\n",
    "    plt.figure(figsize=(10, 8))\n",
    "    plt.style.use('seaborn-v0_8-dark')\n",
    "    plt.suptitle(\"Porównanie metod numerycznych z metodą analityczną\", fontweight='bold', fontsize=15)\n",
    "\n",
    "    # Wykres porównujący rozwiązanie analityczne i metodą Rungego-Kutty\n",
    "    plt.subplot(2, 1, 1)\n",
    "    plt.plot(x_values_analytical, y_vein_analytical, 'r', label=\"Analityczna - lek we krwi\")\n",
    "    plt.plot(x_values_analytical, y_renal_analytical, 'y', label=\"Analityczna - lek wydalony (mocz)\")\n",
    "    plt.plot(x_values_analytical, y_nonrenal_analytical, 'b', label=\"Analityczna - lek wydalony (nienerkowo)\")\n",
    "    plt.plot(x_values_analytical, y_all_analytical, 'g', label=\"Analityczna - lek wydalony (całość)\")\n",
    "\n",
    "    plt.plot(x_values_rk, y_vein_rk, 'r--', label=\"Rungego-Kutty - lek we krwi\")\n",
    "    plt.plot(x_values_rk, y_renal_rk, 'y--', label=\"Rungego-Kutty - lek wydalony (mocz)\")\n",
    "    plt.plot(x_values_rk, y_nonrenal_rk, 'b--', label=\"Rungego-Kutty - lek wydalony (nienerkowo)\")\n",
    "    plt.plot(x_values_rk, y_all_rk, 'g--', label=\"Rungego-Kutty - lek wydalony (całość)\")\n",
    "\n",
    "    plt.title(\"Porównanie metody analitycznej i Rungego-Kutty\")\n",
    "    plt.legend(loc='center left', bbox_to_anchor=(1, 0.5), fancybox=True)\n",
    "    plt.xlabel(\"Czas (godziny)\")\n",
    "    plt.ylabel(\"Stężenie (mg)\")\n",
    "    plt.grid()\n",
    "\n",
    "    # Wykres porównujący rozwiazanie analityczne i metodą Eulera\n",
    "    plt.subplot(2, 1, 2)\n",
    "    plt.plot(x_values_analytical, y_vein_analytical, 'r', label=\"Analityczna - lek we krwi\")\n",
    "    plt.plot(x_values_analytical, y_renal_analytical, 'y', label=\"Analityczna - lek wydalony (mocz)\")\n",
    "    plt.plot(x_values_analytical, y_nonrenal_analytical, 'b', label=\"Analityczna - lek wydalony (nienerkowo)\")\n",
    "    plt.plot(x_values_analytical, y_all_analytical, 'g', label=\"Analityczna - lek wydalony (całość)\")\n",
    "\n",
    "    plt.plot(x_values_eul_f, y_vein_eul_f, 'r:', label=\"Eulera - lek we krwi\")\n",
    "    plt.plot(x_values_eul_f, y_renal_eul_f, 'y:', label=\"Eulera - lek wydalony (mocz)\")\n",
    "    plt.plot(x_values_eul_f, y_nonrenal_eul_f, 'b:', label=\"Eulera - lek wydalony (nienerkowo)\")\n",
    "    plt.plot(x_values_eul_f, y_all_eul_f, 'g:', label=\"Eulera - lek wydalony (całość)\")\n",
    "\n",
    "    plt.title(\"Porównanie metody analitycznej i Eulera\")\n",
    "    plt.legend(loc='center left', bbox_to_anchor=(1, 0.5))\n",
    "    plt.xlabel(\"Czas (godziny)\")\n",
    "    plt.ylabel(\"Stężenie (mg)\")\n",
    "    plt.grid()\n",
    "\n",
    "    plt.tight_layout()\n",
    "    plt.show()\n",
    "\n",
    "interact(injection_graph, initial_dose=fixed(100), renal_rate=widgets.FloatSlider(min=0.0, max=0.2, step=0.01, value=0.1), nonrenal_rate = widgets.FloatSlider(min=0.0, max=0.2, step=0.01, value=0.05), time=fixed(50), grid=widgets.FloatSlider(min=0.1, max=10.0, step=0.1, value=1.0))\n"
   ],
   "outputs": [
    {
     "data": {
      "text/plain": [
       "interactive(children=(FloatSlider(value=0.1, description='renal_rate', max=0.2, step=0.01), FloatSlider(value=…"
      ],
      "application/vnd.jupyter.widget-view+json": {
       "version_major": 2,
       "version_minor": 0,
       "model_id": "71d3f9a08d8c4e72b520ae7ff1ed8106"
      }
     },
     "metadata": {},
     "output_type": "display_data"
    },
    {
     "data": {
      "text/plain": [
       "<function __main__.injection_graph(initial_dose=100, renal_rate=0.05, nonrenal_rate=0.1, time=50, grid=1)>"
      ]
     },
     "execution_count": 3,
     "metadata": {},
     "output_type": "execute_result"
    }
   ],
   "execution_count": 3
  },
  {
   "cell_type": "markdown",
   "id": "ceaf84f88d43cf0e",
   "metadata": {},
   "source": [
    "Możemy zauważyć, tak jak się spodziewaliśmy, że im większa wartość $h$ (`grid`), tym mniej dokładne są metody numeryczne. W szczególności, korzystając z metody jawnej Eurela, przy większym rozstawie siatki nasze wykresy zaczynają się \"rozjeżdżać\". Ponadto, przy tym samym $h$, im wyższe wartości będące składnikami $k_{e}$ (`renal_rate`,`nonrenal_rate`), czyli im szybsze tempo zmian, tym mniej dokładne są nasze metody. Dzieje się tak, ponieważ przy dużym $k$ metoda numeryczna może \"nie nadążać\" za zbyt szybkim tempem zmian funkcji.\n"
   ]
  },
  {
   "cell_type": "markdown",
   "id": "f6460a17f9718b12",
   "metadata": {},
   "source": [
    "#### Wyznaczanie parametrów farmakokinetycznych na podstawie dostępnych danych\n",
    "Pacjent otrzymał 400 mg ibuprofenu w jednorazowej dawce doustnej. Stężenia leku oznaczone w osoczu przedstawiono w tabeli."
   ]
  },
  {
   "cell_type": "markdown",
   "id": "e4f9ecad89478b44",
   "metadata": {},
   "source": [
    "| Czas pobrania krwi po przyjęciu leku [h] | Stężenie ibuprofenu w osoczu [mg/l] |\n",
    "|------------------------------------------|-------------------------------------|\n",
    "| 0,25                                     | 17,8                                |\n",
    "| 0,5                                      | 26,6                                |\n",
    "| 0,75                                     | 33,2                                |\n",
    "| 1                                        | 34,0                                |\n",
    "| 2                                        | 30,4                                |\n",
    "| 3                                        | 19,7                                |\n",
    "| 4                                        | 13,5                                |\n",
    "| 6                                        | 6,5                                 |\n",
    "| 9                                        | 2,2                                 |\n",
    "| 12                                       | 0,6                                 |\n",
    "\n",
    "Tabela 1. Stężenia ibuprofenu oznaczone w osoczu pacjenta [5]."
   ]
  },
  {
   "cell_type": "markdown",
   "id": "19f250d9e211464e",
   "metadata": {},
   "source": [
    "Maksymalne stężenie ibuprofenu we krwi (czyli po jego rozmieszaniu) odnotowano 1 godzinę po podaniu. Korzystając z tej informacji, wyliczymy objętość dystrybucji:\n",
    "$$ V_{d} = \\frac{400}{34} = 11.76 [\\text{l}]. $$\n",
    "Z ulotki wiemy, że dostępność biologiczna $F$ to około 85% [8]. Wtedy dawka początkowa $X_{D}=400 \\text{mg} $ wyrażona jako stężenie $C_{D}$ wyniesie:\n",
    "$$ C_{D} = \\frac{X_{D}}{V_{d}F} = \\frac{400}{11.76 \\cdot 0.85} \\approx 40 \\left[\\frac{\\text{mg}}{\\text{l}}\\right]. $$\n",
    "Ponadto wiemy, że stężenie leku spadło z 34 $\\frac{\\text{mg}}{\\text{l}}$ do $19.7\\frac{\\text{mg}}{\\text{l}}$ (czyli około o połowę) w ciągu 2 godzin. Podstawmy do wzoru na okres półtrwania:\n",
    "$$ t_{1/2} = 2 = \\frac{0.693}{k_{e}} \\iff k_{e} = 0.3465 [\\text{h}^{-1}]. $$\n",
    "Stałą wchłaniania policzymy, podstawiając $t = 1 \\text{h}$ (wtedy lek całkowicie się wchłonął) do wzoru na $C(t)$ i otrzymujemy\n",
    "$$ C(1) = 34 \\left[\\frac{\\text{mg}}{\\text{l}}\\right];$$\n",
    "$$ 34 \\left[\\frac{\\text{mg}}{\\text{l}}\\right] = \\frac{k_{a} \\cdot 40}{11.76 \\cdot (k_{a} - 0.3465 )} \\left(e^{-0.3465}-e^{-k_{a}}\\right). $$\n",
    "$ k_{a} $ odnaleźliśmy korzystając z narzędzia Wolfram|Alpha. Wynosi ono:\n",
    "$$ k_{a} \\approx 3.98721 [\\text{h}^{-1}]. $$\n",
    "Korzystając z tych parametrów, utworzymy wykres symulacji stężenia leku we krwi i porównamy go z podanymi danymi:\n"
   ]
  },
  {
   "cell_type": "code",
   "id": "6fcfed8d68f9fe78",
   "metadata": {
    "ExecuteTime": {
     "end_time": "2025-06-08T14:20:43.670204Z",
     "start_time": "2025-06-08T14:20:43.068433Z"
    }
   },
   "source": [
    "def ibuprofen_graph(initial_dose=40, elimination_rate=0.3465, absorption_rate=3.98721, bioavailability=0.85, time=15, grid=0.1):\n",
    "    def equations(t, y):\n",
    "        \"\"\"Funkcja, która zwraca f(x,y) dla odpowiednich równań, aby później przygotować rozwiązania numeryczne.\"\"\"\n",
    "        y_absorption, y_elimination, y_blood = y\n",
    "        dy_absorption = -absorption_rate * y_absorption\n",
    "        dy_elimination = elimination_rate * y_blood * bioavailability\n",
    "        dy_blood = absorption_rate * y_absorption - elimination_rate * y_blood\n",
    "        return np.array([dy_absorption, dy_elimination, dy_blood])\n",
    "\n",
    "    y_dose = [initial_dose, 0, 0]  # [lek w żołądku, lek wydalony z moczem, lek we krwi]\n",
    "\n",
    "    # Stworzenie list z danymi doświadczalnymi: dane ilości we krwi\n",
    "    x_experimental = [0.25, 0.5, 0.75, 1, 2, 3, 4, 6, 9, 12]\n",
    "    y_experimental = [17.8, 26.6, 33.2, 34.0, 30.4, 19.7, 13.5, 6.5, 2.2, 0.6]\n",
    "\n",
    "    # Rozwiązywanie równań i przyporządkowanie ich wyników do odpowiednich tablic\n",
    "    x_values, y_values = runge_kutta(equations, y_dose, time, grid)\n",
    "    y_stomach, y_eliminated, y_in_blood = y_values.T\n",
    "\n",
    "    # Rysowanie wykresu\n",
    "    plt.figure(figsize=(10, 6))\n",
    "    plt.style.use('seaborn-v0_8-dark')\n",
    "\n",
    "    # Wykres porównujący rozwiązanie analityczne i metodą Rungego-Kutty\n",
    "    plt.plot(x_values, y_stomach, 'm', label=\"lek absorbowany\")\n",
    "    plt.plot(x_values, y_eliminated, 'y', label=\"lek wydalony\")\n",
    "    plt.plot(x_values, y_in_blood, 'r', label=\"lek we krwi\")\n",
    "    plt.scatter(x_experimental, y_experimental, color='r', label=\"lek we krwi - doświadczalnie\")\n",
    "\n",
    "    plt.title(\"Porównanie symulacji z danymi doświadczalnymi\", fontweight='bold', fontsize=15)\n",
    "    plt.legend(loc='center left', bbox_to_anchor=(1, 0.5), fancybox=True)\n",
    "    plt.xlabel(\"Czas (godziny)\")\n",
    "    plt.ylabel(\"Stężenie (mg/l)\")\n",
    "    plt.grid()\n",
    "\n",
    "    plt.tight_layout()\n",
    "    plt.show()\n",
    "\n",
    "ibuprofen_graph()"
   ],
   "outputs": [
    {
     "data": {
      "text/plain": [
       "<Figure size 1000x600 with 1 Axes>"
      ],
      "image/png": "[encoded data removed]"
     },
     "metadata": {},
     "output_type": "display_data"
    }
   ],
   "execution_count": 4
  },
  {
   "cell_type": "markdown",
   "id": "1ba5419c419320ed",
   "metadata": {},
   "source": [
    "Jak widać na wykresie, dane rzeczywiste są zbliżone do naszej symulacji, ale nie pokrywają się całkowicie. Zapewne wynika to z wprowadzonych uproszczeń. Aby symulacje były bardziej dokładne, być może należałoby wprowadzić więcej parametrów lub skorzystać z bardziej precyzyjnego modelu."
   ]
  },
  {
   "cell_type": "markdown",
   "id": "48ce363d08df33e8",
   "metadata": {},
   "source": [
    "## Podsumowanie\n",
    " W naszej pracy przedstawiliśmy podstawowe zagadnienia związane z modelem jednokompartmentowym. Co więcej, zaimplementowaliśmy i porównaliśmy ze sobą niektóre z metod rozwiązywania równań różniczkowych zwyczajnych, aby lepiej przedstawić zagadnienie. Dzięki temu udało nam się stworzyć model wchłaniania i eliminacji paracetamolu, oraz porównać go z danymi eksperymentalnymi. Należy wspomnieć, że w tej pracy skupiliśmy się tylko na jednym z wielu istniejących modelów farmakokinetycznych. Istnieją modele, które dadzą wyniki bardziej dokładne, jednak wymagają one więcej parametrów, danych i mocy obliczeniowej. Farmakokinetyka jest bardzo rozległą dziedziną farmacji korzystającą z metod matematycznych. Jest to jeden z wielu przykładów zastosowań równań rózniczkowych (i ogólnie, matematyki) w różnych dziedzinach nauki."
   ]
  },
  {
   "cell_type": "markdown",
   "id": "f5cf02168b78abed",
   "metadata": {},
   "source": [
    "## Przypisy\n",
    "[1]: W. Jawien, <a href=\"https://home.cyf-kr.edu.pl/~mfjawien/PKSoft/wprowadzenie.htm\">*O modelowaniu farmakokinetycznym*</a>, ACK Cyfronet, Akademia Górniczo-Hutnicza w Krakowie; \\\n",
    "[2]: M. Gibaldi & D. Perrier, *Pharmacokinetics* (2nd ed.), CRC Press. (1982); \\\n",
    "[3]: A. Wiela-Hojeńska, <a href=\"https://www.umw.edu.pl/sites/default/files/struktura/farmacja/farmakologia/1_Farmakokinetyka.pdf\">*Kinetyczna charakterystyka losów leków w organizmie*</a>, Uniwersytet Medyczny we Wrocławiu; \\\n",
    "[4]: <a href=\"https://web.archive.org/web/20160508185420/https://www.agah.eu/fileadmin/_migrated/content_uploads/PK-glossary_PK_working_group_2004.pdf\">*Collection of terms, symbols, equations, and explanations of common pharmacokinetic and pharmacodynamic parameters and some statistical functions*</a>, AGAH working group (2004); \\\n",
    "[5]: M. Romański & A. Czyrski, <a href=\"https://www.ump.edu.pl/media/uid/0697-f0fadb562c7d742/1a1373.pdf\">*Farmakokinetyka po jednorazowym i wielokrotnym podaniu dożylnym i doustnym w modelu jednokompartmentowym*</a>, Uniwersytet Medyczny w Poznaniu; \\\n",
    "[6]: Ł. Płociniczak, <a href=\"https://prac.im.pwr.edu.pl/~plociniczak/lib/exe/fetch.php?media=lecture.pdf\">*Ordinary differential equations in science and technology*</a>, Politechnika Wrocławska; \\\n",
    "[7]: K. Szopa <a href=\"https://home.agh.edu.pl/~kszopa/wp-content/uploads/2021/12/MN_lab5.pdf\">*Metody Numeryczne - Laboratorium 5. Rozwiązywanie równań różniczkowych I rzędu*</a>, Akademia Górniczo-Hutnicza w Krakowie (2020); \\\n",
    "[8]: <a href=\"https://www.google.com/url?sa=t&source=web&rct=j&opi=89978449&url=https://rejestrymedyczne.ezdrowie.gov.pl/api/rpl/medicinal-products/42421/characteristic&ved=2ahUKEwi--NS-1v-KAxWfGxAIHaA8CJQQFnoECBUQAQ&usg=AOvVaw33OhQBvFFQw5M7D1QyTjtD\">*Charakterystyka produktu leczniczego Ibuprofen TZF*</a>, Tarchomińskie Zakłady Farmaceutyczne „Polfa” S.A."
   ]
  }
 ],
 "metadata": {
  "kernelspec": {
   "display_name": "Python 3 (ipykernel)",
   "language": "python",
   "name": "python3"
  },
  "language_info": {
   "codemirror_mode": {
    "name": "ipython",
    "version": 3
   },
   "file_extension": ".py",
   "mimetype": "text/x-python",
   "name": "python",
   "nbconvert_exporter": "python",
   "pygments_lexer": "ipython3",
   "version": "3.10.10"
  }
 },
 "nbformat": 4,
 "nbformat_minor": 5
}
