{
 "cells": [
  {
   "cell_type": "markdown",
   "id": "95c8b17c-994c-4a16-95c8-f0997c30ed4b",
   "metadata": {},
   "source": [
    "# Dynamika wchłaniania się leków - farmakokinetyka\n",
    "### autorzy: Nadia Moska (nr indeksu) i Nikodem Drelak (277426)"
   ]
  },
  {
   "cell_type": "markdown",
   "id": "ebeefd5c-05db-475f-8831-115d08d5e191",
   "metadata": {},
   "source": [
    "## Spis treści\n",
    "1. [Wstęp i definicja](#Wstęp-i-definicja)\n",
    "2. [Historia farmakokinetyki](#Historia-farmakokinetyki)\n",
    "3. [Cele projektu](#Cele-projektu)\n",
    "4. [Podstawowe parametry farmakokinetyczne](#Podstawowe-parametry-farmakokinetyczne)\n",
    "5. [Wybrane modele](#Wybrane-modele)\n",
    "    * [Model kompartmentowy](#Model-kompartmentowy)\n",
    "    * [Model 2](#Model-2)\n",
    "6. [Demonstracja](#Demonstracja)\n",
    "7. [Źródła](#Źródła)"
   ]
  },
  {
   "cell_type": "markdown",
   "id": "67a077b2-ea79-4242-8e92-43642764fa5f",
   "metadata": {},
   "source": [
    "## Wstęp i definicja\n",
    "\n",
    "Farmakokinetyka bada procesy biotransformacji, dystrybucji i wchłaniania (głównie) leków i ich metabolitów oraz ich eliminacji z organizmu w czasie. Rzeczywiste procesy zachodzące w organiźmie są na tyle skomplikowane, że ich pełny opis jest niemożliwy. Natomiast w wielu przypadkach udaje się stworzyć przybliżony, ale wystarczająco dokładny model. Umiejętne wykorzystanie modeli farmakokinetycznych ułatwia dostosowanie dawkowania, a tym samym zmniejszenie ryzyka wystąpienia niepożądanych efektów ubocznych u chorego.\n",
    "\n",
    "<a href=\"https://home.cyf-kr.edu.pl/~mfjawien/PKSoft/wprowadzenie.htm\">źródło 1</a>, <a href=\"https://www.degruyter.com/document/doi/10.1351/pac200476051033/html\">źródło 2</a>"
   ]
  },
  {
   "cell_type": "markdown",
   "id": "695e793c-4b28-407a-87f4-fb0133eb9b03",
   "metadata": {},
   "source": [
    "## Historia farmakokinetyki"
   ]
  },
  {
   "cell_type": "markdown",
   "id": "36ee305c-ee7e-4360-a704-f37537d02005",
   "metadata": {},
   "source": [
    "## Cele projektu"
   ]
  },
  {
   "cell_type": "markdown",
   "id": "6966e5cf-31ad-4eaf-ab33-a5ab630ac992",
   "metadata": {},
   "source": [
    "## Podstawowe parametry farmakokinetyczne\n",
    "\n",
    "<a href=\"https://www.umb.edu.pl/photo/pliki/WF_jednostki/zaklad-chemii-fizycznej/farmakokinetyka_jako_dyscyplina_wiedzy.pdf\">zrodlo(parametry i ich opis)</a>,\n",
    "\n",
    "<a href=\"https://ruj.uj.edu.pl/server/api/core/bitstreams/974d094b-f2c5-4eba-b276-6fd254ea752c/content\">zrodlo(parametry dla roznych lekow)</a>"
   ]
  },
  {
   "cell_type": "markdown",
   "id": "c4a3d009-9c3e-4ed4-8a9e-f8673210bca2",
   "metadata": {},
   "source": [
    "## Wybrane modele"
   ]
  },
  {
   "cell_type": "markdown",
   "id": "6e1a1ba5-2821-4360-bf35-0800d4731fae",
   "metadata": {},
   "source": [
    "#### Model kompartmentowy\n",
    "\n",
    "\n",
    "<a href=\"https://www.umb.edu.pl/photo/pliki/WF_jednostki/zaklad-chemii-fizycznej/farmakokinetyka_jako_dyscyplina_wiedzy.pdf\">źródło(jednorazowa dawka dożylna)</a>,\n",
    "\n",
    "<a href=\"https://home.cyf-kr.edu.pl/~mfjawien/PKSoft/wprowadzenie.htm\">źródło(opis)</a>\n",
    "\n",
    "grabowski farmakokinetyka strona 173"
   ]
  },
  {
   "cell_type": "code",
   "execution_count": null,
   "id": "984abc4f-5f99-41bf-bf4e-55892469e9f4",
   "metadata": {},
   "outputs": [],
   "source": []
  }
 ],
 "metadata": {
  "kernelspec": {
   "display_name": "Python 3 (ipykernel)",
   "language": "python",
   "name": "python3"
  },
  "language_info": {
   "codemirror_mode": {
    "name": "ipython",
    "version": 3
   },
   "file_extension": ".py",
   "mimetype": "text/x-python",
   "name": "python",
   "nbconvert_exporter": "python",
   "pygments_lexer": "ipython3",
   "version": "3.10.10"
  }
 },
 "nbformat": 4,
 "nbformat_minor": 5
}
