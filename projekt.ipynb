{
 "cells": [
  {
   "cell_type": "markdown",
   "id": "95c8b17c-994c-4a16-95c8-f0997c30ed4b",
   "metadata": {},
   "source": [
    "# Dynamika wchłaniania się leków - farmakokinetyka\n",
    "### autorzy: Nadia Moska (nr indeksu) i Nikodem Drelak (277426)"
   ]
  },
  {
   "cell_type": "markdown",
   "id": "ebeefd5c-05db-475f-8831-115d08d5e191",
   "metadata": {},
   "source": [
    "## Spis treści\n",
    "* [Wstęp i definicja](#Wstęp-i-definicja)\n",
    "* [Historia farmakokinetyki](#Historia-farmakokinetyki)\n",
    "* [Cele projektu](#Cele-projektu)"
   ]
  },
  {
   "cell_type": "markdown",
   "id": "67a077b2-ea79-4242-8e92-43642764fa5f",
   "metadata": {},
   "source": [
    "## Wstęp i definicja\n",
    "\n",
    "Farmakokinetyka bada procesy biotransformacji, dystrybucji i wchłaniania leków i ich metabolitów w tkankach oraz eliminacji leków i ich metabolitów z organizmu w okresie czasu."
   ]
  },
  {
   "cell_type": "markdown",
   "id": "695e793c-4b28-407a-87f4-fb0133eb9b03",
   "metadata": {},
   "source": [
    "## Historia farmakokinetyki"
   ]
  },
  {
   "cell_type": "markdown",
   "id": "36ee305c-ee7e-4360-a704-f37537d02005",
   "metadata": {},
   "source": [
    "## Cele projektu"
   ]
  },
  {
   "cell_type": "code",
   "execution_count": null,
   "id": "d534086f-10a3-4dea-909f-c24faebbfaa1",
   "metadata": {},
   "outputs": [],
   "source": []
  }
 ],
 "metadata": {
  "kernelspec": {
   "display_name": "Python 3 (ipykernel)",
   "language": "python",
   "name": "python3"
  },
  "language_info": {
   "codemirror_mode": {
    "name": "ipython",
    "version": 3
   },
   "file_extension": ".py",
   "mimetype": "text/x-python",
   "name": "python",
   "nbconvert_exporter": "python",
   "pygments_lexer": "ipython3",
   "version": "3.10.10"
  }
 },
 "nbformat": 4,
 "nbformat_minor": 5
}
