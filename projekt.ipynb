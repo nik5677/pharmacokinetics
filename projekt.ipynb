{
 "cells": [
  {
   "cell_type": "markdown",
   "id": "95c8b17c-994c-4a16-95c8-f0997c30ed4b",
   "metadata": {},
   "source": [
    "# Dynamika wchłaniania się leków - farmakokinetyka\n",
    "### autorzy: Nadia Moska (nr indeksu) i Nikodem Drelak (277426)"
   ]
  },
  {
   "cell_type": "markdown",
   "id": "ebeefd5c-05db-475f-8831-115d08d5e191",
   "metadata": {},
   "source": [
    "## Spis treści\n",
    "1. [Wstęp i definicja](#Wstęp-i-definicja)\n",
    "2. [Historia farmakokinetyki](#Historia-farmakokinetyki)\n",
    "3. [Podstawowe parametry farmakokinetyczne](#Podstawowe-parametry-farmakokinetyczne)\n",
    "4. [Model kompartmentowy - wprowadzenie](#Model-kompartmentowy---wprowadzenie)\n",
    "5. [Model jednokompartmentowy](#Model-jednokompartmentowy)\n",
    "    * [Podanie dożylne](#Podanie-dożylne)\n",
    "    * [Podanie doustne](#Podanie-doustne)\n",
    "6. [Okres półtrwania](#Okres-półtrwania)"
   ]
  },
  {
   "cell_type": "markdown",
   "id": "67a077b2-ea79-4242-8e92-43642764fa5f",
   "metadata": {},
   "source": [
    "## Wstęp i definicja\n",
    "\n",
    "Farmakokinetyka bada procesy biotransformacji, dystrybucji i wchłaniania (głównie) leków i ich metabolitów oraz ich eliminacji z organizmu w czasie. Rzeczywiste procesy zachodzące w organiźmie są na tyle skomplikowane, że ich pełny opis jest niemożliwy. Natomiast w wielu przypadkach udaje się stworzyć przybliżony, ale wystarczająco dokładny model. Umiejętne wykorzystanie modeli farmakokinetycznych ułatwia dostosowanie dawkowania, a tym samym zmniejszenie ryzyka wystąpienia niepożądanych efektów ubocznych u chorego.\n",
    "\n",
    "<a href=\"https://home.cyf-kr.edu.pl/~mfjawien/PKSoft/wprowadzenie.htm\">źródło 1</a>, <a href=\"https://www.degruyter.com/document/doi/10.1351/pac200476051033/html\">źródło 2</a>"
   ]
  },
  {
   "cell_type": "markdown",
   "id": "695e793c-4b28-407a-87f4-fb0133eb9b03",
   "metadata": {},
   "source": [
    "## Historia farmakokinetyki"
   ]
  },
  {
   "cell_type": "markdown",
   "id": "6966e5cf-31ad-4eaf-ab33-a5ab630ac992",
   "metadata": {},
   "source": [
    "## Podstawowe parametry farmakokinetyczne\n",
    "\n",
    "* stala eliminacji (w zaleznosci od zrodla, niektore uzywaja nerkowa, zolciowa, metaboliczna, my bedziemy uzywac nerkowa i nienerkowa)\n",
    "* objetosc dystrybucji\n",
    "* ...? jeszcze jakies sie znajda\n",
    "\n",
    "<a href=\"https://www.umb.edu.pl/photo/pliki/WF_jednostki/zaklad-chemii-fizycznej/farmakokinetyka_jako_dyscyplina_wiedzy.pdf\">zrodlo(parametry i ich opis)</a>,\n",
    "\n",
    "<a href=\"https://ruj.uj.edu.pl/server/api/core/bitstreams/974d094b-f2c5-4eba-b276-6fd254ea752c/content\">zrodlo(parametry dla roznych lekow)</a>\n",
    "\n",
    "<a href=\"https://web.archive.org/web/20160508185420/https://www.agah.eu/fileadmin/_migrated/content_uploads/PK-glossary_PK_working_group_2004.pdf\">duzo parametrow :-)</a>"
   ]
  },
  {
   "cell_type": "markdown",
   "id": "c4a3d009-9c3e-4ed4-8a9e-f8673210bca2",
   "metadata": {},
   "source": [
    "## Model kompartmentowy - wprowadzenie\n",
    "\n",
    "Jednym z najprostszych modeli pozwalających na matematyczny opis losu leku w organizmie jest **model kompartmentowy**. Organizm ludzki składa się z wielu różnych rodzajów tkanek, jednak wiele tkanek wykazuje podobne własności wobec badanego leku. Model kompartmentowy zakłada, że organizm składa się z jednego lub kilku kompartmentów, czyli zbiorów takich \"podobnych\" tkanek.\n",
    "\n",
    "Na przykład, śledząc transport jonów potasu do wnętrza erytrocytów przyjmuje się model dwukompartmentowy. Wtedy jako jeden kompartment przyjmuje się wszystkie krwinki czerwone (erytrocyty), a jako drugi - otaczający je płyn (osocze).\n",
    "\n",
    "<a href=\"https://www.umb.edu.pl/photo/pliki/WF_jednostki/zaklad-chemii-fizycznej/farmakokinetyka_jako_dyscyplina_wiedzy.pdf\">źródło 1</a>,\n",
    "<a href=\"https://home.cyf-kr.edu.pl/~mfjawien/PKSoft/wprowadzenie.htm\">źródło 2</a>"
   ]
  },
  {
   "metadata": {},
   "cell_type": "markdown",
   "source": [
    "## Model jednokompartmentowy\n",
    "Dla modelu jednokompartmentowego przyjmuje się następujące założenia:\n",
    "* Organizm człowieka to jeden kompartment o objętości dystrybucji $V_{d}$.\n",
    "* Po podaniu leku ($t=0$) dochodzi do natychmiastowego rozmieszczenia leku w ustroju.\n",
    "* W przypadku dawki pozanaczyniowej należy brać pod uwagę uwolnienie leku z postaci oraz jego wchłonięcie z miejsca podania do krążenia ogólnego. ***???***\n",
    "* We krwi (osoczu, surowicy) mierzymy stężenie niezmienionego leku. ***???***\n",
    "* Proces eliminacji jest procesem pierwszego rzędu.\n",
    "* Na stałą eliminacji ($k_{e}$) składają się stała eliminacji leku drogą nerkową *(renal elimination)* ($k_{ren}$) oraz pozanerkową *(non-renal elimination)* ($k_{nren}$): $k_{e} = k_{ren} + k_{nren}$\n",
    "\n",
    "<a href=\"https://www.ump.edu.pl/media/uid/0697-f0fadb562c7d742/1a1373.pdf\">źródło</a>"
   ],
   "id": "95d2d4dea264b8d2"
  },
  {
   "metadata": {},
   "cell_type": "markdown",
   "source": [
    "#### Podanie dożylne\n",
    "\n",
    "Kiedy podajemy lek dożylnie, ten natychmiastowo i jednorodnie miesza się ze wszystkimi tkankami organizmu, po czym eliminowany jest wszystkimi możliwymi drogami. Załóżmy, że:\\\n",
    "$ X_{0} $ – ilość leku w jednej dawce;\\\n",
    "$ X(t) $ – ilość leku we krwi (reprezentującej cały kompartment) w czasie $ t $;\\\n",
    "$ k_{e} $ - stała eliminacji.\\\n",
    "Wtedy, korzystając z modelu logistycznego, możemy zapisać równanie różniczkowe:\n",
    "$$ \\require{physics} \\dv{X(t)}{t} = -k_{e}X(t) $$\n",
    "Rozwiązujemy je, najpierw mnożąc stronami przez $\\frac{1}{X(t)}$ i $dt$:\n",
    "$$ \\require{physics} \\frac{1}{X(t)} \\dv{X(t)}{t} = -k_{e} $$\n",
    "$$ \\require{physics} \\frac{1}{X(t)} \\dd{X(t)} = -k_{e} \\dd{t} $$\n",
    "Integrujemy stronami i otrzymujemy:\n",
    "$$ \\require{physics} \\ln{\\abs{X(t)}} = -k_{e}t + c $$\n",
    "Początkowa masa leku wynosi $X_{0}$ dla czasu $t=0$, czyli, podstawiając do powyższego równania, możemy obliczyć stałą:\n",
    "$$ \\require{physics} \\ln{\\abs{X_0}} = c $$\n",
    "Przekształcamy, aby otrzymać równanie ogólne równania:\n",
    "$$ \\require{physics} \\ln{\\abs{X(t)}} = -k_{e}t + \\ln{\\abs{X_{0}}} $$\n",
    "$$ \\require{physics} \\abs{X(t)} = e^{-k_{e}t + \\ln{\\abs{X_{0}}}} $$\n",
    "I otrzymujemy nasze równanie ogólne - funkcję zależności masy leku we krwi od czasu.\n",
    "$$ X(t) = X_{0} e^{-k_{e}t} $$\n",
    "Ponieważ doświadczalnie wyznacza się stężenie leku we krwi, a nie jego ilość, możemy podstawić:\n",
    "$$ C = \\frac{X}{V_{d}} $$\n",
    "Gdzie $C$ to stężenie, a $V_{d}$ - objętość dystrybucji. $V_{d}$ jest stała, dlatego dostajemy:\n",
    "$$ C(t) = C_{0} e^{-k_{e}t} $$\n",
    "\n",
    "<a href=\"https://www.ump.edu.pl/media/uid/0697-f0fadb562c7d742/1a1373.pdf\">źródło 1</a>,\n",
    "<a href=\"https://www.umb.edu.pl/photo/pliki/WF_jednostki/zaklad-chemii-fizycznej/farmakokinetyka_jako_dyscyplina_wiedzy.pdf\">źródło 2</a>"
   ],
   "id": "c3fa4d868939070"
  },
  {
   "metadata": {},
   "cell_type": "markdown",
   "source": [
    "#### Podanie doustne\n",
    "\n",
    "<a href=\"https://www.ump.edu.pl/media/uid/0697-f0fadb562c7d742/1a1373.pdf\">fajne zrodlo</a>"
   ],
   "id": "35f13d7912bf951b"
  },
  {
   "metadata": {},
   "cell_type": "markdown",
   "source": [
    "## Okres półtrwania\n",
    "Biologiczny okres półtrwania $t_{1/2}$, to czas, w którym stężenie leku spada do połowy początkowej wartości. Korzystając z modelu jednokompartmentowego, podstawiamy:\n",
    "$$ C(t_{1/2}) = \\frac{1}{2} C_{0}$$\n",
    "Stąd:\n",
    "$$ C_{0} e^{-k_{e}t_{1/2}} = \\frac{1}{2} C_{0} $$\n",
    "Dzieląc stronami przez $C_{0}$ otrzymujemy:\n",
    "$$ e^{-k_{e}t_{1/2}} = \\frac{1}{2} $$\n",
    "Logarytmujemy stronami i przekształcamy:\n",
    "$$ k_{e}t_{1/2} = \\ln{2} $$\n",
    "Ostatecznie otrzymujemy:\n",
    "$$ t_{1/2} = \\frac{\\ln{2}}{k_{e}} $$"
   ],
   "id": "293c3e7d27e0847c"
  }
 ],
 "metadata": {
  "kernelspec": {
   "display_name": "Python 3 (ipykernel)",
   "language": "python",
   "name": "python3"
  },
  "language_info": {
   "codemirror_mode": {
    "name": "ipython",
    "version": 3
   },
   "file_extension": ".py",
   "mimetype": "text/x-python",
   "name": "python",
   "nbconvert_exporter": "python",
   "pygments_lexer": "ipython3",
   "version": "3.10.10"
  }
 },
 "nbformat": 4,
 "nbformat_minor": 5
}
