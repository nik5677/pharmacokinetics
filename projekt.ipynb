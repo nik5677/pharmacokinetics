{
 "cells": [
  {
   "cell_type": "markdown",
   "id": "95c8b17c-994c-4a16-95c8-f0997c30ed4b",
   "metadata": {},
   "source": [
    "# Dynamika wchłaniania się leków - farmakokinetyka\n",
    "### autorzy: Nadia Moska (nr indeksu) i Nikodem Drelak (277426)"
   ]
  },
  {
   "cell_type": "markdown",
   "id": "ebeefd5c-05db-475f-8831-115d08d5e191",
   "metadata": {},
   "source": [
    "## Spis treści\n",
    "1. [Wstęp i definicja](#Wstęp-i-definicja)\n",
    "2. [Historia farmakokinetyki](#Historia-farmakokinetyki)\n",
    "3. [Cele projektu](#Cele-projektu)\n",
    "4. [Podstawowe parametry farmakokinetyczne](#Podstawowe-parametry-farmakokinetyczne)\n",
    "5. [Model kompartmentowy](#Model-kompartmentowy)\n",
    "    * [Okres półtrwania](#Okres-półtrwania)"
   ]
  },
  {
   "cell_type": "markdown",
   "id": "67a077b2-ea79-4242-8e92-43642764fa5f",
   "metadata": {},
   "source": [
    "## Wstęp i definicja\n",
    "\n",
    "Farmakokinetyka bada procesy biotransformacji, dystrybucji i wchłaniania (głównie) leków i ich metabolitów oraz ich eliminacji z organizmu w czasie. Rzeczywiste procesy zachodzące w organiźmie są na tyle skomplikowane, że ich pełny opis jest niemożliwy. Natomiast w wielu przypadkach udaje się stworzyć przybliżony, ale wystarczająco dokładny model. Umiejętne wykorzystanie modeli farmakokinetycznych ułatwia dostosowanie dawkowania, a tym samym zmniejszenie ryzyka wystąpienia niepożądanych efektów ubocznych u chorego.\n",
    "\n",
    "<a href=\"https://home.cyf-kr.edu.pl/~mfjawien/PKSoft/wprowadzenie.htm\">źródło 1</a>, <a href=\"https://www.degruyter.com/document/doi/10.1351/pac200476051033/html\">źródło 2</a>"
   ]
  },
  {
   "cell_type": "markdown",
   "id": "695e793c-4b28-407a-87f4-fb0133eb9b03",
   "metadata": {},
   "source": [
    "## Historia farmakokinetyki"
   ]
  },
  {
   "cell_type": "markdown",
   "id": "36ee305c-ee7e-4360-a704-f37537d02005",
   "metadata": {},
   "source": [
    "## Cele projektu"
   ]
  },
  {
   "cell_type": "markdown",
   "id": "6966e5cf-31ad-4eaf-ab33-a5ab630ac992",
   "metadata": {},
   "source": [
    "## Podstawowe parametry farmakokinetyczne\n",
    "\n",
    "<a href=\"https://www.umb.edu.pl/photo/pliki/WF_jednostki/zaklad-chemii-fizycznej/farmakokinetyka_jako_dyscyplina_wiedzy.pdf\">zrodlo(parametry i ich opis)</a>,\n",
    "\n",
    "<a href=\"https://ruj.uj.edu.pl/server/api/core/bitstreams/974d094b-f2c5-4eba-b276-6fd254ea752c/content\">zrodlo(parametry dla roznych lekow)</a>"
   ]
  },
  {
   "cell_type": "markdown",
   "id": "c4a3d009-9c3e-4ed4-8a9e-f8673210bca2",
   "metadata": {},
   "source": [
    "## Model kompartmentowy\n",
    "\n",
    "Jednym z najprostszych modeli pozwalających na matematyczny opis losu leku w organizmie jest *model kompartmentowy*. Organizm ludzki składa się z wielu różnych rodzajów tkanek, jednak wiele tkanek wykazuje podobne własności wobec badanego leku. Model kompartmentowy zakłada, że organizm składa się z jednego lub kilku kompartmentów, czyli zbiorów takich \"podobnych\" tkanek.\n",
    "\n",
    "Na przykład, śledząc transport jonów potasu do wnętrza erytrocytów przyjmuje się model dwukompartmentowy. Wtedy jako jeden kompartment przyjmuje się wszystkie krwinki czerwone (erytrocyty), a jako drugi - otaczający je płyn (osocze).\n",
    "\n",
    "<a href=\"https://www.umb.edu.pl/photo/pliki/WF_jednostki/zaklad-chemii-fizycznej/farmakokinetyka_jako_dyscyplina_wiedzy.pdf\">źródło(jednorazowa dawka dożylna)</a>,\n",
    "\n",
    "<a href=\"https://home.cyf-kr.edu.pl/~mfjawien/PKSoft/wprowadzenie.htm\">źródło(opis)</a>\n",
    "\n",
    "grabowski farmakokinetyka strona 173"
   ]
  },
  {
   "metadata": {},
   "cell_type": "markdown",
   "source": [
    "### Model jednokompartmentowy\n",
    "\n",
    "W modelu jednokompartmentowym zakładamy, że lek natychmiastowo i jednorodnie miesza się ze wszystkimi tkankami organizmu. Załóżmy, że:\\\n",
    "$ M_{0} $ – masa leku podanego jednorazowo (jedna dawka);\\\n",
    "$ M(t) $ – masa leku we krwi (reprezentującej cały kompartment) w czasie $ t $;\\\n",
    "$ k $ - stała szybkości wydalania leku.\\\n",
    "Wtedy, korzystając z modelu logistycznego, możemy zapisać równanie różniczkowe:\n",
    "$$ \\require{physics} \\dv{M(t)}{t} = -kM(t) $$\n",
    "Rozwiązujemy je, najpierw mnożąc stronami przez $\\frac{1}{M(t)}$ i $dt$:\n",
    "$$ \\require{physics} \\frac{1}{M(t)} \\dv{M(t)}{t} = -k $$\n",
    "$$ \\require{physics} \\frac{1}{M(t)} \\dd{M(t)} = -k \\dd{t} $$\n",
    "Integrujemy stronami i otrzymujemy:\n",
    "$$ \\require{physics} \\ln{\\abs{M(t)}} = -kt + C $$\n",
    "Początkowa masa leku wynosi $M_{0}$ dla czasu $t=0$, czyli, podstawiając do powyższego równania, możemy obliczyć stałą:\n",
    "$$ \\require{physics} \\ln{\\abs{M_0}} = C $$\n",
    "Przekształcamy, aby otrzymać równanie ogólne równania:\n",
    "$$ \\require{physics} \\ln{\\abs{M(t)}} = -kt + \\ln{\\abs{M_{0}}} $$\n",
    "$$ \\require{physics} \\abs{M(t)} = e^{-kt + \\ln{\\abs{M_{0}}}} $$\n",
    "I otrzymujemy nasze równanie ogólne - funkcję zależności masy leku we krwi od czasu.\n",
    "$$ M(t) = M_{0} e^{-kt} $$\n",
    "Ponieważ doświadczalnie wyznacza się stężenie leku we krwi, a nie jego masę, możemy podstawić:\n",
    "$$ S = \\frac{M}{V_{d}} $$\n",
    "Gdzie $S$ to stężenie, a $V_{d}$ - objętość dystrybucji. $V_{d}$ jest stała, dlatego dostajemy:\n",
    "$$ S(t) = S_{0} e^{-kt} $$"
   ],
   "id": "c3fa4d868939070"
  },
  {
   "metadata": {},
   "cell_type": "markdown",
   "source": [
    "#### Okres półtrwania\n",
    "Biologiczny okres półtrwania $t_{1/2}$, to czas, w którym stężenie leku spada do połowy początkowej wartości. Korzystając z modelu jednokompartmentowego, podstawiamy:\n",
    "$$ S(t_{1/2}) = \\frac{1}{2} S_{0}$$\n",
    "Stąd:\n",
    "$$ S_{0} e^{-kt_{1/2}} = \\frac{1}{2} S_{0} $$\n",
    "Dzieląc stronami przez $S_{0}$ otrzymujemy:\n",
    "$$ e^{-kt_{1/2}} = \\frac{1}{2} $$\n",
    "Logarytmujemy stronami i przekształcamy:\n",
    "$$ kt_{1/2} = \\ln{2} $$\n",
    "Ostatecznie otrzymujemy:\n",
    "$$ t_{1/2} = \\frac{\\ln{2}}{k} $$"
   ],
   "id": "293c3e7d27e0847c"
  }
 ],
 "metadata": {
  "kernelspec": {
   "display_name": "Python 3 (ipykernel)",
   "language": "python",
   "name": "python3"
  },
  "language_info": {
   "codemirror_mode": {
    "name": "ipython",
    "version": 3
   },
   "file_extension": ".py",
   "mimetype": "text/x-python",
   "name": "python",
   "nbconvert_exporter": "python",
   "pygments_lexer": "ipython3",
   "version": "3.10.10"
  }
 },
 "nbformat": 4,
 "nbformat_minor": 5
}
