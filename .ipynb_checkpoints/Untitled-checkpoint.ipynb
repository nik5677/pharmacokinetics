{
 "cells": [
  {
   "cell_type": "markdown",
   "id": "95c8b17c-994c-4a16-95c8-f0997c30ed4b",
   "metadata": {},
   "source": [
    "## projekt ❤️"
   ]
  },
  {
   "cell_type": "code",
   "execution_count": 1,
   "id": "2847bd5b-0ca8-4d23-ac68-ab554604fa85",
   "metadata": {},
   "outputs": [
    {
     "name": "stdout",
     "output_type": "stream",
     "text": [
      "farmakokinetyka\n"
     ]
    }
   ],
   "source": [
    "print(\"farmakokinetyka\")"
   ]
  }
 ],
 "metadata": {
  "kernelspec": {
   "display_name": "Python 3 (ipykernel)",
   "language": "python",
   "name": "python3"
  },
  "language_info": {
   "codemirror_mode": {
    "name": "ipython",
    "version": 3
   },
   "file_extension": ".py",
   "mimetype": "text/x-python",
   "name": "python",
   "nbconvert_exporter": "python",
   "pygments_lexer": "ipython3",
   "version": "3.10.10"
  }
 },
 "nbformat": 4,
 "nbformat_minor": 5
}
